{
  "nbformat": 4,
  "nbformat_minor": 0,
  "metadata": {
    "colab": {
      "name": "TSLAstockprediction1.ipynb",
      "provenance": [],
      "collapsed_sections": []
    },
    "kernelspec": {
      "name": "python3",
      "display_name": "Python 3"
    },
    "language_info": {
      "name": "python"
    }
  },
  "cells": [
    {
      "cell_type": "code",
      "execution_count": null,
      "metadata": {
        "id": "JMjFFSFQJ5xP"
      },
      "outputs": [],
      "source": [
        "import numpy as np\n",
        "import pandas as pd\n",
        "import matplotlib.pyplot as plt\n",
        "import pandas_datareader as pdr\n",
        "import math\n",
        "\n",
        "from sklearn.preprocessing import MinMaxScaler\n",
        "from sklearn.metrics import mean_squared_error\n",
        "\n",
        "from keras.models import Sequential\n",
        "from keras.layers import LSTM, Dense"
      ]
    },
    {
      "cell_type": "markdown",
      "source": [
        "Data Reading"
      ],
      "metadata": {
        "id": "wmpOwwzZL1Ae"
      }
    },
    {
      "cell_type": "code",
      "source": [
        "data = pdr.get_data_tiingo('TSLA', api_key='a71f1d7eb99f0390b5c2e56dacaeef93179b198f')"
      ],
      "metadata": {
        "colab": {
          "base_uri": "https://localhost:8080/"
        },
        "id": "53xCPNI9Lkid",
        "outputId": "47e7cf93-1b73-4a5b-ef8e-f7e00e5b0ca5"
      },
      "execution_count": null,
      "outputs": [
        {
          "output_type": "stream",
          "name": "stderr",
          "text": [
            "/usr/local/lib/python3.7/dist-packages/pandas_datareader/tiingo.py:234: FutureWarning: In a future version of pandas all arguments of concat except for the argument 'objs' will be keyword-only\n",
            "  return pd.concat(dfs, self._concat_axis)\n"
          ]
        }
      ]
    },
    {
      "cell_type": "code",
      "source": [
        "data.to_csv('TSLA.csv')"
      ],
      "metadata": {
        "id": "RLZaVDmjYUPe"
      },
      "execution_count": null,
      "outputs": []
    },
    {
      "cell_type": "markdown",
      "source": [
        "Load Data"
      ],
      "metadata": {
        "id": "I_xmjXXwMLsW"
      }
    },
    {
      "cell_type": "code",
      "source": [
        "data = pd.read_csv('TSLA.csv')"
      ],
      "metadata": {
        "id": "FUOijJNYMXn4"
      },
      "execution_count": null,
      "outputs": []
    },
    {
      "cell_type": "code",
      "source": [
        "data.head()"
      ],
      "metadata": {
        "colab": {
          "base_uri": "https://localhost:8080/",
          "height": 357
        },
        "id": "IDqTbYi7MkX-",
        "outputId": "6bb99d51-2782-472f-8ea8-bd095b6df484"
      },
      "execution_count": null,
      "outputs": [
        {
          "output_type": "execute_result",
          "data": {
            "text/plain": [
              "  symbol                       date   close      high     low    open  \\\n",
              "0   TSLA  2017-04-17 00:00:00+00:00  301.44  304.0000  298.68  302.70   \n",
              "1   TSLA  2017-04-18 00:00:00+00:00  300.25  300.8399  297.90  299.70   \n",
              "2   TSLA  2017-04-19 00:00:00+00:00  305.52  306.6200  302.11  302.46   \n",
              "3   TSLA  2017-04-20 00:00:00+00:00  302.51  309.1500  300.23  306.51   \n",
              "4   TSLA  2017-04-21 00:00:00+00:00  305.60  306.4000  300.42  302.00   \n",
              "\n",
              "    volume  adjClose   adjHigh  adjLow  adjOpen  adjVolume  divCash  \\\n",
              "0  4138736    60.288  60.80000  59.736   60.540   20693680      0.0   \n",
              "1  3035698    60.050  60.16798  59.580   59.940   15178490      0.0   \n",
              "2  3898024    61.104  61.32400  60.422   60.492   19490120      0.0   \n",
              "3  6149352    60.502  61.83000  60.046   61.302   30746760      0.0   \n",
              "4  4509756    61.120  61.28000  60.084   60.400   22548780      0.0   \n",
              "\n",
              "   splitFactor  \n",
              "0          1.0  \n",
              "1          1.0  \n",
              "2          1.0  \n",
              "3          1.0  \n",
              "4          1.0  "
            ],
            "text/html": [
              "\n",
              "  <div id=\"df-913b9ce3-d602-4bc7-918f-13a7fa4cadd5\">\n",
              "    <div class=\"colab-df-container\">\n",
              "      <div>\n",
              "<style scoped>\n",
              "    .dataframe tbody tr th:only-of-type {\n",
              "        vertical-align: middle;\n",
              "    }\n",
              "\n",
              "    .dataframe tbody tr th {\n",
              "        vertical-align: top;\n",
              "    }\n",
              "\n",
              "    .dataframe thead th {\n",
              "        text-align: right;\n",
              "    }\n",
              "</style>\n",
              "<table border=\"1\" class=\"dataframe\">\n",
              "  <thead>\n",
              "    <tr style=\"text-align: right;\">\n",
              "      <th></th>\n",
              "      <th>symbol</th>\n",
              "      <th>date</th>\n",
              "      <th>close</th>\n",
              "      <th>high</th>\n",
              "      <th>low</th>\n",
              "      <th>open</th>\n",
              "      <th>volume</th>\n",
              "      <th>adjClose</th>\n",
              "      <th>adjHigh</th>\n",
              "      <th>adjLow</th>\n",
              "      <th>adjOpen</th>\n",
              "      <th>adjVolume</th>\n",
              "      <th>divCash</th>\n",
              "      <th>splitFactor</th>\n",
              "    </tr>\n",
              "  </thead>\n",
              "  <tbody>\n",
              "    <tr>\n",
              "      <th>0</th>\n",
              "      <td>TSLA</td>\n",
              "      <td>2017-04-17 00:00:00+00:00</td>\n",
              "      <td>301.44</td>\n",
              "      <td>304.0000</td>\n",
              "      <td>298.68</td>\n",
              "      <td>302.70</td>\n",
              "      <td>4138736</td>\n",
              "      <td>60.288</td>\n",
              "      <td>60.80000</td>\n",
              "      <td>59.736</td>\n",
              "      <td>60.540</td>\n",
              "      <td>20693680</td>\n",
              "      <td>0.0</td>\n",
              "      <td>1.0</td>\n",
              "    </tr>\n",
              "    <tr>\n",
              "      <th>1</th>\n",
              "      <td>TSLA</td>\n",
              "      <td>2017-04-18 00:00:00+00:00</td>\n",
              "      <td>300.25</td>\n",
              "      <td>300.8399</td>\n",
              "      <td>297.90</td>\n",
              "      <td>299.70</td>\n",
              "      <td>3035698</td>\n",
              "      <td>60.050</td>\n",
              "      <td>60.16798</td>\n",
              "      <td>59.580</td>\n",
              "      <td>59.940</td>\n",
              "      <td>15178490</td>\n",
              "      <td>0.0</td>\n",
              "      <td>1.0</td>\n",
              "    </tr>\n",
              "    <tr>\n",
              "      <th>2</th>\n",
              "      <td>TSLA</td>\n",
              "      <td>2017-04-19 00:00:00+00:00</td>\n",
              "      <td>305.52</td>\n",
              "      <td>306.6200</td>\n",
              "      <td>302.11</td>\n",
              "      <td>302.46</td>\n",
              "      <td>3898024</td>\n",
              "      <td>61.104</td>\n",
              "      <td>61.32400</td>\n",
              "      <td>60.422</td>\n",
              "      <td>60.492</td>\n",
              "      <td>19490120</td>\n",
              "      <td>0.0</td>\n",
              "      <td>1.0</td>\n",
              "    </tr>\n",
              "    <tr>\n",
              "      <th>3</th>\n",
              "      <td>TSLA</td>\n",
              "      <td>2017-04-20 00:00:00+00:00</td>\n",
              "      <td>302.51</td>\n",
              "      <td>309.1500</td>\n",
              "      <td>300.23</td>\n",
              "      <td>306.51</td>\n",
              "      <td>6149352</td>\n",
              "      <td>60.502</td>\n",
              "      <td>61.83000</td>\n",
              "      <td>60.046</td>\n",
              "      <td>61.302</td>\n",
              "      <td>30746760</td>\n",
              "      <td>0.0</td>\n",
              "      <td>1.0</td>\n",
              "    </tr>\n",
              "    <tr>\n",
              "      <th>4</th>\n",
              "      <td>TSLA</td>\n",
              "      <td>2017-04-21 00:00:00+00:00</td>\n",
              "      <td>305.60</td>\n",
              "      <td>306.4000</td>\n",
              "      <td>300.42</td>\n",
              "      <td>302.00</td>\n",
              "      <td>4509756</td>\n",
              "      <td>61.120</td>\n",
              "      <td>61.28000</td>\n",
              "      <td>60.084</td>\n",
              "      <td>60.400</td>\n",
              "      <td>22548780</td>\n",
              "      <td>0.0</td>\n",
              "      <td>1.0</td>\n",
              "    </tr>\n",
              "  </tbody>\n",
              "</table>\n",
              "</div>\n",
              "      <button class=\"colab-df-convert\" onclick=\"convertToInteractive('df-913b9ce3-d602-4bc7-918f-13a7fa4cadd5')\"\n",
              "              title=\"Convert this dataframe to an interactive table.\"\n",
              "              style=\"display:none;\">\n",
              "        \n",
              "  <svg xmlns=\"http://www.w3.org/2000/svg\" height=\"24px\"viewBox=\"0 0 24 24\"\n",
              "       width=\"24px\">\n",
              "    <path d=\"M0 0h24v24H0V0z\" fill=\"none\"/>\n",
              "    <path d=\"M18.56 5.44l.94 2.06.94-2.06 2.06-.94-2.06-.94-.94-2.06-.94 2.06-2.06.94zm-11 1L8.5 8.5l.94-2.06 2.06-.94-2.06-.94L8.5 2.5l-.94 2.06-2.06.94zm10 10l.94 2.06.94-2.06 2.06-.94-2.06-.94-.94-2.06-.94 2.06-2.06.94z\"/><path d=\"M17.41 7.96l-1.37-1.37c-.4-.4-.92-.59-1.43-.59-.52 0-1.04.2-1.43.59L10.3 9.45l-7.72 7.72c-.78.78-.78 2.05 0 2.83L4 21.41c.39.39.9.59 1.41.59.51 0 1.02-.2 1.41-.59l7.78-7.78 2.81-2.81c.8-.78.8-2.07 0-2.86zM5.41 20L4 18.59l7.72-7.72 1.47 1.35L5.41 20z\"/>\n",
              "  </svg>\n",
              "      </button>\n",
              "      \n",
              "  <style>\n",
              "    .colab-df-container {\n",
              "      display:flex;\n",
              "      flex-wrap:wrap;\n",
              "      gap: 12px;\n",
              "    }\n",
              "\n",
              "    .colab-df-convert {\n",
              "      background-color: #E8F0FE;\n",
              "      border: none;\n",
              "      border-radius: 50%;\n",
              "      cursor: pointer;\n",
              "      display: none;\n",
              "      fill: #1967D2;\n",
              "      height: 32px;\n",
              "      padding: 0 0 0 0;\n",
              "      width: 32px;\n",
              "    }\n",
              "\n",
              "    .colab-df-convert:hover {\n",
              "      background-color: #E2EBFA;\n",
              "      box-shadow: 0px 1px 2px rgba(60, 64, 67, 0.3), 0px 1px 3px 1px rgba(60, 64, 67, 0.15);\n",
              "      fill: #174EA6;\n",
              "    }\n",
              "\n",
              "    [theme=dark] .colab-df-convert {\n",
              "      background-color: #3B4455;\n",
              "      fill: #D2E3FC;\n",
              "    }\n",
              "\n",
              "    [theme=dark] .colab-df-convert:hover {\n",
              "      background-color: #434B5C;\n",
              "      box-shadow: 0px 1px 3px 1px rgba(0, 0, 0, 0.15);\n",
              "      filter: drop-shadow(0px 1px 2px rgba(0, 0, 0, 0.3));\n",
              "      fill: #FFFFFF;\n",
              "    }\n",
              "  </style>\n",
              "\n",
              "      <script>\n",
              "        const buttonEl =\n",
              "          document.querySelector('#df-913b9ce3-d602-4bc7-918f-13a7fa4cadd5 button.colab-df-convert');\n",
              "        buttonEl.style.display =\n",
              "          google.colab.kernel.accessAllowed ? 'block' : 'none';\n",
              "\n",
              "        async function convertToInteractive(key) {\n",
              "          const element = document.querySelector('#df-913b9ce3-d602-4bc7-918f-13a7fa4cadd5');\n",
              "          const dataTable =\n",
              "            await google.colab.kernel.invokeFunction('convertToInteractive',\n",
              "                                                     [key], {});\n",
              "          if (!dataTable) return;\n",
              "\n",
              "          const docLinkHtml = 'Like what you see? Visit the ' +\n",
              "            '<a target=\"_blank\" href=https://colab.research.google.com/notebooks/data_table.ipynb>data table notebook</a>'\n",
              "            + ' to learn more about interactive tables.';\n",
              "          element.innerHTML = '';\n",
              "          dataTable['output_type'] = 'display_data';\n",
              "          await google.colab.output.renderOutput(dataTable, element);\n",
              "          const docLink = document.createElement('div');\n",
              "          docLink.innerHTML = docLinkHtml;\n",
              "          element.appendChild(docLink);\n",
              "        }\n",
              "      </script>\n",
              "    </div>\n",
              "  </div>\n",
              "  "
            ]
          },
          "metadata": {},
          "execution_count": 15
        }
      ]
    },
    {
      "cell_type": "code",
      "source": [
        "data.shape"
      ],
      "metadata": {
        "colab": {
          "base_uri": "https://localhost:8080/"
        },
        "id": "0saJ6MLCMwup",
        "outputId": "1dd82805-06cf-4bd4-cfc4-f8c9e83d1b9f"
      },
      "execution_count": null,
      "outputs": [
        {
          "output_type": "execute_result",
          "data": {
            "text/plain": [
              "(1258, 14)"
            ]
          },
          "metadata": {},
          "execution_count": 16
        }
      ]
    },
    {
      "cell_type": "markdown",
      "source": [
        "Close Column"
      ],
      "metadata": {
        "id": "bwP4dfb8M1Lj"
      }
    },
    {
      "cell_type": "code",
      "source": [
        "data=data['close']"
      ],
      "metadata": {
        "id": "QMEUn2CoM5KP"
      },
      "execution_count": null,
      "outputs": []
    },
    {
      "cell_type": "code",
      "source": [
        "data.head()"
      ],
      "metadata": {
        "colab": {
          "base_uri": "https://localhost:8080/"
        },
        "id": "pUfIZmDpM-7t",
        "outputId": "16379851-ca83-4648-a042-abf6f8b410b9"
      },
      "execution_count": null,
      "outputs": [
        {
          "output_type": "execute_result",
          "data": {
            "text/plain": [
              "0    301.44\n",
              "1    300.25\n",
              "2    305.52\n",
              "3    302.51\n",
              "4    305.60\n",
              "Name: close, dtype: float64"
            ]
          },
          "metadata": {},
          "execution_count": 18
        }
      ]
    },
    {
      "cell_type": "code",
      "source": [
        "data.shape"
      ],
      "metadata": {
        "colab": {
          "base_uri": "https://localhost:8080/"
        },
        "id": "Ok_azSMqNERM",
        "outputId": "76a57169-ca21-4546-f8d5-49c20ad96641"
      },
      "execution_count": null,
      "outputs": [
        {
          "output_type": "execute_result",
          "data": {
            "text/plain": [
              "(1258,)"
            ]
          },
          "metadata": {},
          "execution_count": 19
        }
      ]
    },
    {
      "cell_type": "code",
      "source": [
        "plt.figure(figsize=(13,6))\n",
        "plt.plot(data)\n",
        "plt.title('original data')"
      ],
      "metadata": {
        "colab": {
          "base_uri": "https://localhost:8080/",
          "height": 353
        },
        "id": "60qlV7xVNKTQ",
        "outputId": "3b723d13-5156-430b-b4ef-40d4b835c2a0"
      },
      "execution_count": null,
      "outputs": [
        {
          "output_type": "execute_result",
          "data": {
            "text/plain": [
              "Text(0.5, 1.0, 'original data')"
            ]
          },
          "metadata": {},
          "execution_count": 20
        },
        {
          "output_type": "display_data",
          "data": {
            "text/plain": [
              "<Figure size 936x432 with 1 Axes>"
            ],
            "image/png": "[encoded data removed]"
          },
          "metadata": {
            "needs_background": "light"
          }
        }
      ]
    },
    {
      "cell_type": "markdown",
      "source": [
        "Data Preprocessing"
      ],
      "metadata": {
        "id": "jlu8qHu5awS7"
      }
    },
    {
      "cell_type": "code",
      "source": [
        "#reshaping data\n",
        "data = np.array(data).reshape(-1,1)"
      ],
      "metadata": {
        "id": "BY7l7Kbha0Ox"
      },
      "execution_count": null,
      "outputs": []
    },
    {
      "cell_type": "code",
      "source": [
        "scaler = MinMaxScaler(feature_range=(0,1))\n",
        "data = scaler.fit_transform(data)"
      ],
      "metadata": {
        "id": "C4ZvrcWBa35u"
      },
      "execution_count": null,
      "outputs": []
    },
    {
      "cell_type": "markdown",
      "source": [
        "Dividing the dataset into train and test"
      ],
      "metadata": {
        "id": "ToLCI2zka6WW"
      }
    },
    {
      "cell_type": "code",
      "source": [
        "train_size = int(len(data)*.70)\n",
        "test_size = len(data)-train_size\n",
        "\n",
        "train = data[:train_size,:]\n",
        "test = data[train_size:, :]"
      ],
      "metadata": {
        "id": "wYvfmZVKa-md"
      },
      "execution_count": null,
      "outputs": []
    },
    {
      "cell_type": "code",
      "source": [
        "print('Shape of train :',train.shape)\n",
        "print('Shape of test :',test.shape)"
      ],
      "metadata": {
        "colab": {
          "base_uri": "https://localhost:8080/"
        },
        "id": "yyfRbMvUbbyH",
        "outputId": "c0d32a8e-a927-48fe-e6c9-1362ae1521d0"
      },
      "execution_count": null,
      "outputs": [
        {
          "output_type": "stream",
          "name": "stdout",
          "text": [
            "Shape of train : (880, 1)\n",
            "Shape of test : (378, 1)\n"
          ]
        }
      ]
    },
    {
      "cell_type": "markdown",
      "source": [
        "Feature and Label Data"
      ],
      "metadata": {
        "id": "2sAO_Qj3bet3"
      }
    },
    {
      "cell_type": "code",
      "source": [
        "def feature_label_data(data, time_step=1):\n",
        "    feature = []\n",
        "    label = []\n",
        "    for i in range(len(data)-time_step-1):\n",
        "        f = data[i:(i+time_step), 0]\n",
        "        l = data[i+time_step,0]\n",
        "        feature.append(f)\n",
        "        label.append(l)\n",
        "        \n",
        "    return np.array(feature), np.array(label)"
      ],
      "metadata": {
        "id": "J7JXQs7hbibh"
      },
      "execution_count": null,
      "outputs": []
    },
    {
      "cell_type": "code",
      "source": [
        "time_step=100\n",
        "trainX,trainY = feature_label_data(train, time_step)\n",
        "testX,testY = feature_label_data(test, time_step)\n",
        "print('Shape of trainX is :',trainX.shape)\n",
        "print('Shape of trainY is :',trainY.shape)\n",
        "print('Shape of testX is :',testX.shape)\n",
        "print('Shape of testY is :',testY.shape)"
      ],
      "metadata": {
        "colab": {
          "base_uri": "https://localhost:8080/"
        },
        "id": "9nQWTTpxbl-k",
        "outputId": "13686f04-2da6-44be-d356-890059ad8253"
      },
      "execution_count": null,
      "outputs": [
        {
          "output_type": "stream",
          "name": "stdout",
          "text": [
            "Shape of trainX is : (779, 100)\n",
            "Shape of trainY is : (779,)\n",
            "Shape of testX is : (277, 100)\n",
            "Shape of testY is : (277,)\n"
          ]
        }
      ]
    },
    {
      "cell_type": "markdown",
      "source": [
        "Reshaping the data"
      ],
      "metadata": {
        "id": "xoLtfWZibqFH"
      }
    },
    {
      "cell_type": "code",
      "source": [
        "trainX = trainX.reshape(trainX.shape[0], trainX.shape[1], 1)\n",
        "testX = testX.reshape(testX.shape[0], testX.shape[1], 1)"
      ],
      "metadata": {
        "id": "Vr43ylHxbsOs"
      },
      "execution_count": null,
      "outputs": []
    },
    {
      "cell_type": "markdown",
      "source": [
        "Model"
      ],
      "metadata": {
        "id": "VI2yLk_Zbz7o"
      }
    },
    {
      "cell_type": "code",
      "source": [
        "model = Sequential()\n",
        "model.add(LSTM(50, return_sequences=True, input_shape=(time_step, 1)))\n",
        "model.add(LSTM(50, return_sequences=True))\n",
        "model.add(LSTM(40))\n",
        "model.add(Dense(1))"
      ],
      "metadata": {
        "id": "Z393Rux-b1fE"
      },
      "execution_count": null,
      "outputs": []
    },
    {
      "cell_type": "code",
      "source": [
        "model.summary()"
      ],
      "metadata": {
        "colab": {
          "base_uri": "https://localhost:8080/"
        },
        "id": "JbtIjotBbv8j",
        "outputId": "c12bc220-f69e-4ecf-dec8-f9b1b5c1733f"
      },
      "execution_count": null,
      "outputs": [
        {
          "output_type": "stream",
          "name": "stdout",
          "text": [
            "Model: \"sequential_1\"\n",
            "_________________________________________________________________\n",
            " Layer (type)                Output Shape              Param #   \n",
            "=================================================================\n",
            " lstm_3 (LSTM)               (None, 100, 50)           10400     \n",
            "                                                                 \n",
            " lstm_4 (LSTM)               (None, 100, 50)           20200     \n",
            "                                                                 \n",
            " lstm_5 (LSTM)               (None, 40)                14560     \n",
            "                                                                 \n",
            " dense_1 (Dense)             (None, 1)                 41        \n",
            "                                                                 \n",
            "=================================================================\n",
            "Total params: 45,201\n",
            "Trainable params: 45,201\n",
            "Non-trainable params: 0\n",
            "_________________________________________________________________\n"
          ]
        }
      ]
    },
    {
      "cell_type": "code",
      "source": [
        "model.compile(loss='mean_squared_error',\n",
        "              optimizer='adam')"
      ],
      "metadata": {
        "id": "0GuTjPvwb8-i"
      },
      "execution_count": null,
      "outputs": []
    },
    {
      "cell_type": "code",
      "source": [
        "fit_history = model.fit(trainX,trainY, batch_size=64, epochs=200, validation_data=(testX,testY), verbose=1)"
      ],
      "metadata": {
        "colab": {
          "base_uri": "https://localhost:8080/"
        },
        "id": "N_VtyS2UcEBS",
        "outputId": "ef2049bc-a855-4681-d9bf-cd8db67ae383"
      },
      "execution_count": null,
      "outputs": [
        {
          "output_type": "stream",
          "name": "stdout",
          "text": [
            "Epoch 1/200\n",
            "13/13 [==============================] - 7s 214ms/step - loss: 0.0181 - val_loss: 0.0176\n",
            "Epoch 2/200\n",
            "13/13 [==============================] - 2s 124ms/step - loss: 0.0092 - val_loss: 0.0020\n",
            "Epoch 3/200\n",
            "13/13 [==============================] - 2s 126ms/step - loss: 0.0067 - val_loss: 0.0039\n",
            "Epoch 4/200\n",
            "13/13 [==============================] - 2s 128ms/step - loss: 0.0078 - val_loss: 0.0032\n",
            "Epoch 5/200\n",
            "13/13 [==============================] - 2s 128ms/step - loss: 0.0063 - val_loss: 0.0014\n",
            "Epoch 6/200\n",
            "13/13 [==============================] - 2s 123ms/step - loss: 0.0058 - val_loss: 0.0016\n",
            "Epoch 7/200\n",
            "13/13 [==============================] - 2s 124ms/step - loss: 0.0052 - val_loss: 0.0020\n",
            "Epoch 8/200\n",
            "13/13 [==============================] - 2s 125ms/step - loss: 0.0049 - val_loss: 0.0016\n",
            "Epoch 9/200\n",
            "13/13 [==============================] - 2s 126ms/step - loss: 0.0046 - val_loss: 0.0012\n",
            "Epoch 10/200\n",
            "13/13 [==============================] - 2s 126ms/step - loss: 0.0042 - val_loss: 0.0010\n",
            "Epoch 11/200\n",
            "13/13 [==============================] - 2s 130ms/step - loss: 0.0040 - val_loss: 0.0012\n",
            "Epoch 12/200\n",
            "13/13 [==============================] - 2s 128ms/step - loss: 0.0038 - val_loss: 9.6653e-04\n",
            "Epoch 13/200\n",
            "13/13 [==============================] - 2s 126ms/step - loss: 0.0035 - val_loss: 0.0012\n",
            "Epoch 14/200\n",
            "13/13 [==============================] - 2s 125ms/step - loss: 0.0031 - val_loss: 0.0013\n",
            "Epoch 15/200\n",
            "13/13 [==============================] - 2s 126ms/step - loss: 0.0027 - val_loss: 0.0023\n",
            "Epoch 16/200\n",
            "13/13 [==============================] - 2s 126ms/step - loss: 0.0025 - val_loss: 0.0026\n",
            "Epoch 17/200\n",
            "13/13 [==============================] - 2s 127ms/step - loss: 0.0027 - val_loss: 0.0055\n",
            "Epoch 18/200\n",
            "13/13 [==============================] - 2s 127ms/step - loss: 0.0025 - val_loss: 0.0022\n",
            "Epoch 19/200\n",
            "13/13 [==============================] - 2s 128ms/step - loss: 0.0023 - val_loss: 0.0019\n",
            "Epoch 20/200\n",
            "13/13 [==============================] - 2s 128ms/step - loss: 0.0017 - val_loss: 0.0030\n",
            "Epoch 21/200\n",
            "13/13 [==============================] - 2s 127ms/step - loss: 0.0019 - val_loss: 0.0018\n",
            "Epoch 22/200\n",
            "13/13 [==============================] - 2s 125ms/step - loss: 0.0018 - val_loss: 9.3295e-04\n",
            "Epoch 23/200\n",
            "13/13 [==============================] - 2s 128ms/step - loss: 0.0017 - val_loss: 0.0024\n",
            "Epoch 24/200\n",
            "13/13 [==============================] - 2s 129ms/step - loss: 0.0016 - val_loss: 8.6577e-04\n",
            "Epoch 25/200\n",
            "13/13 [==============================] - 2s 126ms/step - loss: 0.0013 - val_loss: 0.0022\n",
            "Epoch 26/200\n",
            "13/13 [==============================] - 2s 127ms/step - loss: 0.0016 - val_loss: 0.0025\n",
            "Epoch 27/200\n",
            "13/13 [==============================] - 2s 125ms/step - loss: 0.0016 - val_loss: 8.7308e-04\n",
            "Epoch 28/200\n",
            "13/13 [==============================] - 2s 127ms/step - loss: 0.0016 - val_loss: 7.5692e-04\n",
            "Epoch 29/200\n",
            "13/13 [==============================] - 2s 128ms/step - loss: 0.0013 - val_loss: 7.2528e-04\n",
            "Epoch 30/200\n",
            "13/13 [==============================] - 2s 127ms/step - loss: 0.0012 - val_loss: 7.1660e-04\n",
            "Epoch 31/200\n",
            "13/13 [==============================] - 2s 127ms/step - loss: 0.0012 - val_loss: 8.2870e-04\n",
            "Epoch 32/200\n",
            "13/13 [==============================] - 2s 126ms/step - loss: 0.0013 - val_loss: 6.8892e-04\n",
            "Epoch 33/200\n",
            "13/13 [==============================] - 2s 126ms/step - loss: 0.0012 - val_loss: 6.9272e-04\n",
            "Epoch 34/200\n",
            "13/13 [==============================] - 2s 125ms/step - loss: 0.0013 - val_loss: 0.0013\n",
            "Epoch 35/200\n",
            "13/13 [==============================] - 2s 127ms/step - loss: 0.0012 - val_loss: 0.0018\n",
            "Epoch 36/200\n",
            "13/13 [==============================] - 2s 130ms/step - loss: 0.0011 - val_loss: 0.0014\n",
            "Epoch 37/200\n",
            "13/13 [==============================] - 2s 129ms/step - loss: 0.0013 - val_loss: 0.0017\n",
            "Epoch 38/200\n",
            "13/13 [==============================] - 2s 127ms/step - loss: 0.0015 - val_loss: 6.2652e-04\n",
            "Epoch 39/200\n",
            "13/13 [==============================] - 2s 126ms/step - loss: 0.0012 - val_loss: 9.2358e-04\n",
            "Epoch 40/200\n",
            "13/13 [==============================] - 2s 125ms/step - loss: 0.0017 - val_loss: 0.0029\n",
            "Epoch 41/200\n",
            "13/13 [==============================] - 2s 127ms/step - loss: 0.0021 - val_loss: 0.0012\n",
            "Epoch 42/200\n",
            "13/13 [==============================] - 2s 126ms/step - loss: 0.0018 - val_loss: 8.2105e-04\n",
            "Epoch 43/200\n",
            "13/13 [==============================] - 2s 129ms/step - loss: 0.0015 - val_loss: 6.2095e-04\n",
            "Epoch 44/200\n",
            "13/13 [==============================] - 2s 130ms/step - loss: 0.0012 - val_loss: 8.7781e-04\n",
            "Epoch 45/200\n",
            "13/13 [==============================] - 2s 145ms/step - loss: 0.0011 - val_loss: 6.2412e-04\n",
            "Epoch 46/200\n",
            "13/13 [==============================] - 2s 128ms/step - loss: 0.0012 - val_loss: 6.5465e-04\n",
            "Epoch 47/200\n",
            "13/13 [==============================] - 2s 127ms/step - loss: 0.0013 - val_loss: 7.7355e-04\n",
            "Epoch 48/200\n",
            "13/13 [==============================] - 2s 129ms/step - loss: 0.0012 - val_loss: 6.3229e-04\n",
            "Epoch 49/200\n",
            "13/13 [==============================] - 2s 128ms/step - loss: 0.0011 - val_loss: 6.6461e-04\n",
            "Epoch 50/200\n",
            "13/13 [==============================] - 2s 130ms/step - loss: 0.0011 - val_loss: 6.6373e-04\n",
            "Epoch 51/200\n",
            "13/13 [==============================] - 2s 159ms/step - loss: 0.0016 - val_loss: 6.6433e-04\n",
            "Epoch 52/200\n",
            "13/13 [==============================] - 2s 129ms/step - loss: 0.0010 - val_loss: 0.0018\n",
            "Epoch 53/200\n",
            "13/13 [==============================] - 2s 128ms/step - loss: 0.0026 - val_loss: 8.2245e-04\n",
            "Epoch 54/200\n",
            "13/13 [==============================] - 2s 128ms/step - loss: 0.0020 - val_loss: 7.0277e-04\n",
            "Epoch 55/200\n",
            "13/13 [==============================] - 2s 137ms/step - loss: 0.0017 - val_loss: 0.0024\n",
            "Epoch 56/200\n",
            "13/13 [==============================] - 3s 196ms/step - loss: 0.0014 - val_loss: 0.0015\n",
            "Epoch 57/200\n",
            "13/13 [==============================] - 2s 127ms/step - loss: 0.0015 - val_loss: 0.0012\n",
            "Epoch 58/200\n",
            "13/13 [==============================] - 2s 129ms/step - loss: 0.0012 - val_loss: 7.8903e-04\n",
            "Epoch 59/200\n",
            "13/13 [==============================] - 2s 129ms/step - loss: 0.0011 - val_loss: 6.4816e-04\n",
            "Epoch 60/200\n",
            "13/13 [==============================] - 2s 129ms/step - loss: 0.0010 - val_loss: 6.6477e-04\n",
            "Epoch 61/200\n",
            "13/13 [==============================] - 2s 126ms/step - loss: 9.8117e-04 - val_loss: 7.6399e-04\n",
            "Epoch 62/200\n",
            "13/13 [==============================] - 2s 125ms/step - loss: 9.5050e-04 - val_loss: 7.7535e-04\n",
            "Epoch 63/200\n",
            "13/13 [==============================] - 2s 128ms/step - loss: 9.2195e-04 - val_loss: 8.2573e-04\n",
            "Epoch 64/200\n",
            "13/13 [==============================] - 2s 129ms/step - loss: 9.6145e-04 - val_loss: 6.1778e-04\n",
            "Epoch 65/200\n",
            "13/13 [==============================] - 2s 128ms/step - loss: 0.0010 - val_loss: 6.1789e-04\n",
            "Epoch 66/200\n",
            "13/13 [==============================] - 2s 127ms/step - loss: 0.0010 - val_loss: 6.1726e-04\n",
            "Epoch 67/200\n",
            "13/13 [==============================] - 2s 128ms/step - loss: 9.2263e-04 - val_loss: 7.6368e-04\n",
            "Epoch 68/200\n",
            "13/13 [==============================] - 2s 129ms/step - loss: 0.0010 - val_loss: 5.6956e-04\n",
            "Epoch 69/200\n",
            "13/13 [==============================] - 2s 127ms/step - loss: 0.0011 - val_loss: 6.1014e-04\n",
            "Epoch 70/200\n",
            "13/13 [==============================] - 2s 127ms/step - loss: 0.0011 - val_loss: 0.0010\n",
            "Epoch 71/200\n",
            "13/13 [==============================] - 2s 131ms/step - loss: 0.0011 - val_loss: 0.0014\n",
            "Epoch 72/200\n",
            "13/13 [==============================] - 2s 125ms/step - loss: 9.1265e-04 - val_loss: 6.0271e-04\n",
            "Epoch 73/200\n",
            "13/13 [==============================] - 2s 129ms/step - loss: 0.0011 - val_loss: 6.3328e-04\n",
            "Epoch 74/200\n",
            "13/13 [==============================] - 2s 128ms/step - loss: 9.0113e-04 - val_loss: 0.0011\n",
            "Epoch 75/200\n",
            "13/13 [==============================] - 2s 129ms/step - loss: 9.9484e-04 - val_loss: 6.5708e-04\n",
            "Epoch 76/200\n",
            "13/13 [==============================] - 2s 127ms/step - loss: 0.0011 - val_loss: 9.8804e-04\n",
            "Epoch 77/200\n",
            "13/13 [==============================] - 2s 129ms/step - loss: 9.3088e-04 - val_loss: 8.0313e-04\n",
            "Epoch 78/200\n",
            "13/13 [==============================] - 2s 126ms/step - loss: 9.7780e-04 - val_loss: 6.6613e-04\n",
            "Epoch 79/200\n",
            "13/13 [==============================] - 2s 126ms/step - loss: 8.6196e-04 - val_loss: 8.8590e-04\n",
            "Epoch 80/200\n",
            "13/13 [==============================] - 2s 127ms/step - loss: 0.0010 - val_loss: 6.8335e-04\n",
            "Epoch 81/200\n",
            "13/13 [==============================] - 2s 128ms/step - loss: 0.0012 - val_loss: 5.5998e-04\n",
            "Epoch 82/200\n",
            "13/13 [==============================] - 2s 125ms/step - loss: 0.0012 - val_loss: 0.0014\n",
            "Epoch 83/200\n",
            "13/13 [==============================] - 2s 128ms/step - loss: 0.0011 - val_loss: 5.9255e-04\n",
            "Epoch 84/200\n",
            "13/13 [==============================] - 2s 125ms/step - loss: 9.4603e-04 - val_loss: 8.8665e-04\n",
            "Epoch 85/200\n",
            "13/13 [==============================] - 2s 127ms/step - loss: 8.8083e-04 - val_loss: 7.7998e-04\n",
            "Epoch 86/200\n",
            "13/13 [==============================] - 2s 127ms/step - loss: 8.8700e-04 - val_loss: 6.5900e-04\n",
            "Epoch 87/200\n",
            "13/13 [==============================] - 2s 128ms/step - loss: 8.6128e-04 - val_loss: 6.4321e-04\n",
            "Epoch 88/200\n",
            "13/13 [==============================] - 2s 125ms/step - loss: 0.0011 - val_loss: 6.2401e-04\n",
            "Epoch 89/200\n",
            "13/13 [==============================] - 2s 129ms/step - loss: 7.7101e-04 - val_loss: 6.4271e-04\n",
            "Epoch 90/200\n",
            "13/13 [==============================] - 2s 129ms/step - loss: 9.6428e-04 - val_loss: 9.0703e-04\n",
            "Epoch 91/200\n",
            "13/13 [==============================] - 2s 129ms/step - loss: 8.8375e-04 - val_loss: 7.1491e-04\n",
            "Epoch 92/200\n",
            "13/13 [==============================] - 2s 127ms/step - loss: 9.9625e-04 - val_loss: 9.3233e-04\n",
            "Epoch 93/200\n",
            "13/13 [==============================] - 2s 126ms/step - loss: 0.0023 - val_loss: 0.0011\n",
            "Epoch 94/200\n",
            "13/13 [==============================] - 2s 127ms/step - loss: 0.0020 - val_loss: 0.0024\n",
            "Epoch 95/200\n",
            "13/13 [==============================] - 2s 128ms/step - loss: 0.0016 - val_loss: 0.0021\n",
            "Epoch 96/200\n",
            "13/13 [==============================] - 2s 129ms/step - loss: 0.0016 - val_loss: 6.5567e-04\n",
            "Epoch 97/200\n",
            "13/13 [==============================] - 2s 128ms/step - loss: 0.0013 - val_loss: 6.3867e-04\n",
            "Epoch 98/200\n",
            "13/13 [==============================] - 2s 127ms/step - loss: 0.0014 - val_loss: 7.2420e-04\n",
            "Epoch 99/200\n",
            "13/13 [==============================] - 2s 127ms/step - loss: 0.0012 - val_loss: 0.0030\n",
            "Epoch 100/200\n",
            "13/13 [==============================] - 2s 129ms/step - loss: 0.0043 - val_loss: 0.0010\n",
            "Epoch 101/200\n",
            "13/13 [==============================] - 2s 129ms/step - loss: 0.0020 - val_loss: 5.5131e-04\n",
            "Epoch 102/200\n",
            "13/13 [==============================] - 2s 130ms/step - loss: 0.0014 - val_loss: 0.0011\n",
            "Epoch 103/200\n",
            "13/13 [==============================] - 2s 128ms/step - loss: 0.0011 - val_loss: 0.0010\n",
            "Epoch 104/200\n",
            "13/13 [==============================] - 2s 129ms/step - loss: 0.0011 - val_loss: 0.0010\n",
            "Epoch 105/200\n",
            "13/13 [==============================] - 2s 130ms/step - loss: 0.0011 - val_loss: 0.0016\n",
            "Epoch 106/200\n",
            "13/13 [==============================] - 2s 128ms/step - loss: 0.0012 - val_loss: 0.0010\n",
            "Epoch 107/200\n",
            "13/13 [==============================] - 2s 130ms/step - loss: 0.0010 - val_loss: 7.8658e-04\n",
            "Epoch 108/200\n",
            "13/13 [==============================] - 2s 127ms/step - loss: 0.0010 - val_loss: 6.6191e-04\n",
            "Epoch 109/200\n",
            "13/13 [==============================] - 2s 126ms/step - loss: 0.0012 - val_loss: 0.0011\n",
            "Epoch 110/200\n",
            "13/13 [==============================] - 2s 129ms/step - loss: 0.0010 - val_loss: 5.4731e-04\n",
            "Epoch 111/200\n",
            "13/13 [==============================] - 2s 126ms/step - loss: 0.0011 - val_loss: 0.0015\n",
            "Epoch 112/200\n",
            "13/13 [==============================] - 2s 129ms/step - loss: 0.0013 - val_loss: 6.3254e-04\n",
            "Epoch 113/200\n",
            "13/13 [==============================] - 2s 128ms/step - loss: 0.0010 - val_loss: 9.4403e-04\n",
            "Epoch 114/200\n",
            "13/13 [==============================] - 2s 127ms/step - loss: 0.0010 - val_loss: 5.7535e-04\n",
            "Epoch 115/200\n",
            "13/13 [==============================] - 2s 127ms/step - loss: 8.8749e-04 - val_loss: 0.0019\n",
            "Epoch 116/200\n",
            "13/13 [==============================] - 2s 127ms/step - loss: 0.0011 - val_loss: 7.7712e-04\n",
            "Epoch 117/200\n",
            "13/13 [==============================] - 2s 128ms/step - loss: 9.7903e-04 - val_loss: 8.5939e-04\n",
            "Epoch 118/200\n",
            "13/13 [==============================] - 2s 126ms/step - loss: 9.4018e-04 - val_loss: 6.9972e-04\n",
            "Epoch 119/200\n",
            "13/13 [==============================] - 2s 132ms/step - loss: 0.0010 - val_loss: 6.0923e-04\n",
            "Epoch 120/200\n",
            "13/13 [==============================] - 2s 128ms/step - loss: 0.0034 - val_loss: 0.0042\n",
            "Epoch 121/200\n",
            "13/13 [==============================] - 2s 129ms/step - loss: 0.0026 - val_loss: 0.0010\n",
            "Epoch 122/200\n",
            "13/13 [==============================] - 2s 127ms/step - loss: 0.0032 - val_loss: 8.6112e-04\n",
            "Epoch 123/200\n",
            "13/13 [==============================] - 2s 130ms/step - loss: 0.0023 - val_loss: 0.0015\n",
            "Epoch 124/200\n",
            "13/13 [==============================] - 2s 129ms/step - loss: 0.0028 - val_loss: 0.0022\n",
            "Epoch 125/200\n",
            "13/13 [==============================] - 2s 128ms/step - loss: 0.0017 - val_loss: 9.9430e-04\n",
            "Epoch 126/200\n",
            "13/13 [==============================] - 2s 128ms/step - loss: 0.0014 - val_loss: 0.0011\n",
            "Epoch 127/200\n",
            "13/13 [==============================] - 2s 128ms/step - loss: 0.0013 - val_loss: 6.4176e-04\n",
            "Epoch 128/200\n",
            "13/13 [==============================] - 2s 127ms/step - loss: 0.0012 - val_loss: 4.7844e-04\n",
            "Epoch 129/200\n",
            "13/13 [==============================] - 2s 128ms/step - loss: 0.0012 - val_loss: 5.5267e-04\n",
            "Epoch 130/200\n",
            "13/13 [==============================] - 2s 128ms/step - loss: 0.0013 - val_loss: 5.2268e-04\n",
            "Epoch 131/200\n",
            "13/13 [==============================] - 2s 128ms/step - loss: 0.0013 - val_loss: 0.0011\n",
            "Epoch 132/200\n",
            "13/13 [==============================] - 2s 130ms/step - loss: 0.0012 - val_loss: 4.9253e-04\n",
            "Epoch 133/200\n",
            "13/13 [==============================] - 2s 126ms/step - loss: 0.0014 - val_loss: 0.0020\n",
            "Epoch 134/200\n",
            "13/13 [==============================] - 2s 127ms/step - loss: 0.0014 - val_loss: 4.5669e-04\n",
            "Epoch 135/200\n",
            "13/13 [==============================] - 2s 128ms/step - loss: 0.0012 - val_loss: 6.5315e-04\n",
            "Epoch 136/200\n",
            "13/13 [==============================] - 2s 126ms/step - loss: 0.0011 - val_loss: 5.6112e-04\n",
            "Epoch 137/200\n",
            "13/13 [==============================] - 2s 129ms/step - loss: 0.0011 - val_loss: 9.0004e-04\n",
            "Epoch 138/200\n",
            "13/13 [==============================] - 2s 128ms/step - loss: 0.0011 - val_loss: 7.7749e-04\n",
            "Epoch 139/200\n",
            "13/13 [==============================] - 2s 128ms/step - loss: 0.0011 - val_loss: 5.4603e-04\n",
            "Epoch 140/200\n",
            "13/13 [==============================] - 2s 126ms/step - loss: 0.0011 - val_loss: 6.0919e-04\n",
            "Epoch 141/200\n",
            "13/13 [==============================] - 2s 124ms/step - loss: 0.0011 - val_loss: 8.0123e-04\n",
            "Epoch 142/200\n",
            "13/13 [==============================] - 2s 129ms/step - loss: 0.0011 - val_loss: 6.7568e-04\n",
            "Epoch 143/200\n",
            "13/13 [==============================] - 2s 129ms/step - loss: 0.0011 - val_loss: 0.0014\n",
            "Epoch 144/200\n",
            "13/13 [==============================] - 2s 129ms/step - loss: 0.0012 - val_loss: 9.1064e-04\n",
            "Epoch 145/200\n",
            "13/13 [==============================] - 2s 129ms/step - loss: 0.0012 - val_loss: 8.6926e-04\n",
            "Epoch 146/200\n",
            "13/13 [==============================] - 2s 129ms/step - loss: 0.0011 - val_loss: 6.2854e-04\n",
            "Epoch 147/200\n",
            "13/13 [==============================] - 2s 129ms/step - loss: 0.0011 - val_loss: 0.0022\n",
            "Epoch 148/200\n",
            "13/13 [==============================] - 2s 126ms/step - loss: 0.0012 - val_loss: 8.2470e-04\n",
            "Epoch 149/200\n",
            "13/13 [==============================] - 2s 129ms/step - loss: 0.0012 - val_loss: 0.0021\n",
            "Epoch 150/200\n",
            "13/13 [==============================] - 2s 127ms/step - loss: 0.0034 - val_loss: 0.0016\n",
            "Epoch 151/200\n",
            "13/13 [==============================] - 2s 129ms/step - loss: 0.0015 - val_loss: 0.0013\n",
            "Epoch 152/200\n",
            "13/13 [==============================] - 2s 130ms/step - loss: 0.0012 - val_loss: 0.0011\n",
            "Epoch 153/200\n",
            "13/13 [==============================] - 2s 126ms/step - loss: 0.0012 - val_loss: 5.2811e-04\n",
            "Epoch 154/200\n",
            "13/13 [==============================] - 2s 128ms/step - loss: 0.0010 - val_loss: 5.5177e-04\n",
            "Epoch 155/200\n",
            "13/13 [==============================] - 2s 128ms/step - loss: 0.0010 - val_loss: 0.0012\n",
            "Epoch 156/200\n",
            "13/13 [==============================] - 2s 128ms/step - loss: 9.7543e-04 - val_loss: 6.4303e-04\n",
            "Epoch 157/200\n",
            "13/13 [==============================] - 2s 129ms/step - loss: 0.0010 - val_loss: 7.3205e-04\n",
            "Epoch 158/200\n",
            "13/13 [==============================] - 2s 130ms/step - loss: 9.8116e-04 - val_loss: 5.6653e-04\n",
            "Epoch 159/200\n",
            "13/13 [==============================] - 2s 131ms/step - loss: 9.8326e-04 - val_loss: 7.7045e-04\n",
            "Epoch 160/200\n",
            "13/13 [==============================] - 2s 133ms/step - loss: 9.3310e-04 - val_loss: 7.7437e-04\n",
            "Epoch 161/200\n",
            "13/13 [==============================] - 2s 131ms/step - loss: 9.1580e-04 - val_loss: 7.4374e-04\n",
            "Epoch 162/200\n",
            "13/13 [==============================] - 2s 130ms/step - loss: 9.1442e-04 - val_loss: 6.2138e-04\n",
            "Epoch 163/200\n",
            "13/13 [==============================] - 2s 130ms/step - loss: 0.0011 - val_loss: 0.0011\n",
            "Epoch 164/200\n",
            "13/13 [==============================] - 2s 133ms/step - loss: 0.0011 - val_loss: 0.0012\n",
            "Epoch 165/200\n",
            "13/13 [==============================] - 2s 130ms/step - loss: 0.0014 - val_loss: 6.2343e-04\n",
            "Epoch 166/200\n",
            "13/13 [==============================] - 2s 132ms/step - loss: 8.9267e-04 - val_loss: 7.3606e-04\n",
            "Epoch 167/200\n",
            "13/13 [==============================] - 2s 127ms/step - loss: 9.4852e-04 - val_loss: 7.4531e-04\n",
            "Epoch 168/200\n",
            "13/13 [==============================] - 2s 128ms/step - loss: 9.1335e-04 - val_loss: 8.4487e-04\n",
            "Epoch 169/200\n",
            "13/13 [==============================] - 2s 130ms/step - loss: 9.0273e-04 - val_loss: 6.9458e-04\n",
            "Epoch 170/200\n",
            "13/13 [==============================] - 2s 129ms/step - loss: 9.3352e-04 - val_loss: 5.3759e-04\n",
            "Epoch 171/200\n",
            "13/13 [==============================] - 2s 126ms/step - loss: 9.7946e-04 - val_loss: 9.8896e-04\n",
            "Epoch 172/200\n",
            "13/13 [==============================] - 2s 128ms/step - loss: 8.3074e-04 - val_loss: 5.8932e-04\n",
            "Epoch 173/200\n",
            "13/13 [==============================] - 2s 126ms/step - loss: 0.0010 - val_loss: 5.2355e-04\n",
            "Epoch 174/200\n",
            "13/13 [==============================] - 2s 127ms/step - loss: 0.0010 - val_loss: 0.0016\n",
            "Epoch 175/200\n",
            "13/13 [==============================] - 2s 128ms/step - loss: 9.2175e-04 - val_loss: 5.6192e-04\n",
            "Epoch 176/200\n",
            "13/13 [==============================] - 2s 130ms/step - loss: 8.5174e-04 - val_loss: 7.2126e-04\n",
            "Epoch 177/200\n",
            "13/13 [==============================] - 2s 125ms/step - loss: 9.3853e-04 - val_loss: 7.6316e-04\n",
            "Epoch 178/200\n",
            "13/13 [==============================] - 2s 129ms/step - loss: 8.9411e-04 - val_loss: 6.5230e-04\n",
            "Epoch 179/200\n",
            "13/13 [==============================] - 2s 127ms/step - loss: 7.6540e-04 - val_loss: 0.0012\n",
            "Epoch 180/200\n",
            "13/13 [==============================] - 2s 128ms/step - loss: 8.9654e-04 - val_loss: 8.2513e-04\n",
            "Epoch 181/200\n",
            "13/13 [==============================] - 2s 128ms/step - loss: 8.2066e-04 - val_loss: 9.1037e-04\n",
            "Epoch 182/200\n",
            "13/13 [==============================] - 2s 128ms/step - loss: 8.8156e-04 - val_loss: 5.9748e-04\n",
            "Epoch 183/200\n",
            "13/13 [==============================] - 2s 132ms/step - loss: 0.0011 - val_loss: 0.0012\n",
            "Epoch 184/200\n",
            "13/13 [==============================] - 2s 129ms/step - loss: 0.0011 - val_loss: 8.3227e-04\n",
            "Epoch 185/200\n",
            "13/13 [==============================] - 2s 129ms/step - loss: 8.2918e-04 - val_loss: 0.0014\n",
            "Epoch 186/200\n",
            "13/13 [==============================] - 2s 129ms/step - loss: 9.7850e-04 - val_loss: 7.4248e-04\n",
            "Epoch 187/200\n",
            "13/13 [==============================] - 2s 128ms/step - loss: 8.4004e-04 - val_loss: 8.7726e-04\n",
            "Epoch 188/200\n",
            "13/13 [==============================] - 2s 127ms/step - loss: 8.9176e-04 - val_loss: 8.6665e-04\n",
            "Epoch 189/200\n",
            "13/13 [==============================] - 2s 129ms/step - loss: 7.6941e-04 - val_loss: 6.7980e-04\n",
            "Epoch 190/200\n",
            "13/13 [==============================] - 2s 128ms/step - loss: 7.1655e-04 - val_loss: 9.9815e-04\n",
            "Epoch 191/200\n",
            "13/13 [==============================] - 2s 128ms/step - loss: 7.0822e-04 - val_loss: 8.3093e-04\n",
            "Epoch 192/200\n",
            "13/13 [==============================] - 2s 130ms/step - loss: 6.7966e-04 - val_loss: 0.0013\n",
            "Epoch 193/200\n",
            "13/13 [==============================] - 2s 127ms/step - loss: 8.8414e-04 - val_loss: 7.1124e-04\n",
            "Epoch 194/200\n",
            "13/13 [==============================] - 2s 129ms/step - loss: 6.9673e-04 - val_loss: 0.0016\n",
            "Epoch 195/200\n",
            "13/13 [==============================] - 2s 129ms/step - loss: 0.0014 - val_loss: 7.5126e-04\n",
            "Epoch 196/200\n",
            "13/13 [==============================] - 2s 128ms/step - loss: 0.0014 - val_loss: 0.0044\n",
            "Epoch 197/200\n",
            "13/13 [==============================] - 2s 131ms/step - loss: 0.0011 - val_loss: 5.0588e-04\n",
            "Epoch 198/200\n",
            "13/13 [==============================] - 2s 127ms/step - loss: 0.0013 - val_loss: 0.0043\n",
            "Epoch 199/200\n",
            "13/13 [==============================] - 2s 128ms/step - loss: 0.0011 - val_loss: 6.2581e-04\n",
            "Epoch 200/200\n",
            "13/13 [==============================] - 2s 127ms/step - loss: 0.0010 - val_loss: 0.0013\n"
          ]
        }
      ]
    },
    {
      "cell_type": "markdown",
      "source": [
        "prediction and perfomance matrix"
      ],
      "metadata": {
        "id": "1J2fdRJ8dnWW"
      }
    },
    {
      "cell_type": "code",
      "source": [
        "trainX_predict = model.predict(trainX) \n",
        "testX_predict = model.predict(testX)"
      ],
      "metadata": {
        "id": "Q8Bn2NnBduIb"
      },
      "execution_count": null,
      "outputs": []
    },
    {
      "cell_type": "code",
      "source": [
        "#backing to original data\n",
        "trainX_predict = scaler.inverse_transform(trainX_predict)\n",
        "testX_predict = scaler.inverse_transform(testX_predict)"
      ],
      "metadata": {
        "id": "upAb07ASdwpp"
      },
      "execution_count": null,
      "outputs": []
    },
    {
      "cell_type": "code",
      "source": [
        "trainX_predict.shape"
      ],
      "metadata": {
        "colab": {
          "base_uri": "https://localhost:8080/"
        },
        "id": "TPDhTgR3dzIt",
        "outputId": "05b8afa5-5b90-42f9-8a88-bb733ff15f4f"
      },
      "execution_count": null,
      "outputs": [
        {
          "output_type": "execute_result",
          "data": {
            "text/plain": [
              "(779, 1)"
            ]
          },
          "metadata": {},
          "execution_count": 35
        }
      ]
    },
    {
      "cell_type": "code",
      "source": [
        "testX_predict.shape"
      ],
      "metadata": {
        "colab": {
          "base_uri": "https://localhost:8080/"
        },
        "id": "jYb6g37Yd2Dt",
        "outputId": "5e701945-91f5-49ef-9797-89922b9d4453"
      },
      "execution_count": null,
      "outputs": [
        {
          "output_type": "execute_result",
          "data": {
            "text/plain": [
              "(277, 1)"
            ]
          },
          "metadata": {},
          "execution_count": 36
        }
      ]
    },
    {
      "cell_type": "markdown",
      "source": [
        "RMSE"
      ],
      "metadata": {
        "id": "tvT32E0yd4dN"
      }
    },
    {
      "cell_type": "code",
      "source": [
        "#RMSE for train data\n",
        "math.sqrt(mean_squared_error(trainY, trainX_predict))"
      ],
      "metadata": {
        "colab": {
          "base_uri": "https://localhost:8080/"
        },
        "id": "PeSHnc3Vd5ZB",
        "outputId": "4d8c8c1a-1789-43fa-bd84-9a78fc4b8704"
      },
      "execution_count": null,
      "outputs": [
        {
          "output_type": "execute_result",
          "data": {
            "text/plain": [
              "560.9788929113785"
            ]
          },
          "metadata": {},
          "execution_count": 37
        }
      ]
    },
    {
      "cell_type": "code",
      "source": [
        "#RMSE for test data\n",
        "math.sqrt(mean_squared_error(testY, testX_predict))"
      ],
      "metadata": {
        "colab": {
          "base_uri": "https://localhost:8080/"
        },
        "id": "6srThnS_d9Bx",
        "outputId": "0b20a86d-b75a-43d5-d10e-09bef1f2626d"
      },
      "execution_count": null,
      "outputs": [
        {
          "output_type": "execute_result",
          "data": {
            "text/plain": [
              "886.658746038069"
            ]
          },
          "metadata": {},
          "execution_count": 38
        }
      ]
    },
    {
      "cell_type": "markdown",
      "source": [
        "Plot train and test data"
      ],
      "metadata": {
        "id": "YDurgdqqeFXk"
      }
    },
    {
      "cell_type": "code",
      "source": [
        "# Plotting \n",
        "# shift train predictions for plotting\n",
        "#look_back=100\n",
        "trainPredictPlot = np.empty_like(data)\n",
        "trainPredictPlot[:, :] = np.nan\n",
        "trainPredictPlot[time_step:len(trainX_predict)+time_step, :] = trainX_predict\n",
        "# shift test predictions for plotting\n",
        "testPredictPlot = np.empty_like(data)\n",
        "testPredictPlot[:, :] = np.nan\n",
        "testPredictPlot[len(trainX_predict)+(time_step*2)+1:len(data)-1, :] = testX_predict\n",
        "# plot baseline and predictions\n",
        "plt.plot(scaler.inverse_transform(data))\n",
        "plt.plot(trainPredictPlot)\n",
        "plt.plot(testPredictPlot)\n",
        "plt.show()"
      ],
      "metadata": {
        "colab": {
          "base_uri": "https://localhost:8080/",
          "height": 265
        },
        "id": "L04PvjPNeJWC",
        "outputId": "64c51c6a-a56e-4b7c-dc53-9782f220d6e3"
      },
      "execution_count": null,
      "outputs": [
        {
          "output_type": "display_data",
          "data": {
            "text/plain": [
              "<Figure size 432x288 with 1 Axes>"
            ],
            "image/png": "[encoded data removed]"
          },
          "metadata": {
            "needs_background": "light"
          }
        }
      ]
    },
    {
      "cell_type": "markdown",
      "source": [
        "Prediction of next 30 days"
      ],
      "metadata": {
        "id": "h98zMXtJeRO0"
      }
    },
    {
      "cell_type": "code",
      "source": [
        "#len of test data\n",
        "len(test)"
      ],
      "metadata": {
        "colab": {
          "base_uri": "https://localhost:8080/"
        },
        "id": "R0r3DEZDeT9c",
        "outputId": "1337eb0a-d7e9-4726-df54-c52749919815"
      },
      "execution_count": null,
      "outputs": [
        {
          "output_type": "execute_result",
          "data": {
            "text/plain": [
              "378"
            ]
          },
          "metadata": {},
          "execution_count": 42
        }
      ]
    },
    {
      "cell_type": "code",
      "source": [
        "x_input = test[278:].reshape(1,-1)\n",
        "x_input.shape"
      ],
      "metadata": {
        "colab": {
          "base_uri": "https://localhost:8080/"
        },
        "id": "2g-60lQ8eZl-",
        "outputId": "b82210ca-84bd-44f2-dd78-08426ec8fd3f"
      },
      "execution_count": null,
      "outputs": [
        {
          "output_type": "execute_result",
          "data": {
            "text/plain": [
              "(1, 100)"
            ]
          },
          "metadata": {},
          "execution_count": 43
        }
      ]
    },
    {
      "cell_type": "code",
      "source": [
        "(1, 100)\n",
        "temp_input = list(x_input)\n",
        "temp_input = temp_input[0].tolist()\n",
        "temp_input"
      ],
      "metadata": {
        "colab": {
          "base_uri": "https://localhost:8080/"
        },
        "id": "2zg7wxcjer9B",
        "outputId": "aba2d21f-6a26-42cd-bad6-c25a4de406b7"
      },
      "execution_count": null,
      "outputs": [
        {
          "output_type": "execute_result",
          "data": {
            "text/plain": [
              "[0.4453922263542708,\n",
              " 0.46514190835914504,\n",
              " 0.47475944032857864,\n",
              " 0.4515336589344492,\n",
              " 0.45491751546281634,\n",
              " 0.4383720591519482,\n",
              " 0.4651079241472389,\n",
              " 0.4688801716688189,\n",
              " 0.4447222518909786,\n",
              " 0.43967316897921127,\n",
              " 0.40586858790744634,\n",
              " 0.4029750750080105,\n",
              " 0.42372486382040797,\n",
              " 0.43208012506189974,\n",
              " 0.40044567866471165,\n",
              " 0.40686869471496945,\n",
              " 0.3822932546194253,\n",
              " 0.3784578935614482,\n",
              " 0.3869442367631494,\n",
              " 0.3631213042169551,\n",
              " 0.36586431560652105,\n",
              " 0.3500228179708512,\n",
              " 0.36875782850595684,\n",
              " 0.40290710658419826,\n",
              " 0.4311285671285282,\n",
              " 0.4442076338249715,\n",
              " 0.4415520104088786,\n",
              " 0.4404450960782219,\n",
              " 0.43275009952519194,\n",
              " 0.42616687219023386,\n",
              " 0.4955917622270338,\n",
              " 0.47122508229034155,\n",
              " 0.44138208934934786,\n",
              " 0.43001194302304124,\n",
              " 0.41168959791822424,\n",
              " 0.4268174271038654,\n",
              " 0.4298662964005865,\n",
              " 0.45016943557078903,\n",
              " 0.41392284612919816,\n",
              " 0.42268591791356347,\n",
              " 0.4134130829506063,\n",
              " 0.3964889454213556,\n",
              " 0.39678994844109555,\n",
              " 0.37136490304789826,\n",
              " 0.3646166095408247,\n",
              " 0.3589849401392381,\n",
              " 0.36821408111545884,\n",
              " 0.3156307955218518,\n",
              " 0.32400547631300425,\n",
              " 0.3678790938838128,\n",
              " 0.3652234704677198,\n",
              " 0.35279981357232315,\n",
              " 0.34575051704550963,\n",
              " 0.3613735447474973,\n",
              " 0.3536154346580702,\n",
              " 0.36073269960869603,\n",
              " 0.36558758702385685,\n",
              " 0.35226092106924034,\n",
              " 0.3306323976346988,\n",
              " 0.3382837002009923,\n",
              " 0.3609414597675479,\n",
              " 0.36140752895940337,\n",
              " 0.3385701385584868,\n",
              " 0.3291662216353202,\n",
              " 0.31195564574857504,\n",
              " 0.2840448979988153,\n",
              " 0.30187689947470114,\n",
              " 0.3062948470224975,\n",
              " 0.33569604520871155,\n",
              " 0.3327539834351241,\n",
              " 0.3402887687034537,\n",
              " 0.3205779257979007,\n",
              " 0.32009243705638457,\n",
              " 0.3037266115798774,\n",
              " 0.3133489984367262,\n",
              " 0.33013234423093724,\n",
              " 0.32009729194379977,\n",
              " 0.29924555049568397,\n",
              " 0.2851760867665478,\n",
              " 0.30242064686519915,\n",
              " 0.32103428521492583,\n",
              " 0.33626406703628536,\n",
              " 0.3526687316121138,\n",
              " 0.3603248890658225,\n",
              " 0.39567817922302373,\n",
              " 0.39816873646700124,\n",
              " 0.4053588247288544,\n",
              " 0.4037664216566817,\n",
              " 0.4431881074677877,\n",
              " 0.44694093543970703,\n",
              " 0.4442319082620473,\n",
              " 0.43627474778859865,\n",
              " 0.4396683140917961,\n",
              " 0.46921515890046506,\n",
              " 0.44290652399770836,\n",
              " 0.42081678625872654,\n",
              " 0.4263999067861616,\n",
              " 0.41097592946819556,\n",
              " 0.3869151074386584,\n",
              " 0.3922651933701657]"
            ]
          },
          "metadata": {},
          "execution_count": 44
        }
      ]
    },
    {
      "cell_type": "code",
      "source": [
        "lst_output=[]\n",
        "i=0\n",
        "while(i<30):\n",
        "    \n",
        "    if(len(temp_input)>100):\n",
        "        #print(temp_input)\n",
        "        x_input=np.array(temp_input[1:])\n",
        "        print(\"{} day input {}\".format(i,x_input))\n",
        "        x_input=x_input.reshape(1,-1)\n",
        "        x_input = x_input.reshape((1, time_step, 1))\n",
        "        #print(x_input)\n",
        "        yhat = model.predict(x_input, verbose=0)\n",
        "        print(\"{} day output {}\".format(i,yhat))\n",
        "        temp_input.extend(yhat[0].tolist())\n",
        "        temp_input=temp_input[1:]\n",
        "        #print(temp_input)\n",
        "        lst_output.extend(yhat.tolist())\n",
        "        i=i+1\n",
        "    else:\n",
        "        x_input = x_input.reshape((1, time_step,1))\n",
        "        yhat = model.predict(x_input, verbose=0)\n",
        "        print(yhat[0])\n",
        "        temp_input.extend(yhat[0].tolist())\n",
        "        print(len(temp_input))\n",
        "        lst_output.extend(yhat.tolist())\n",
        "        i=i+1\n",
        "    \n",
        "\n",
        "print(\"\\n\\n 30 day's output are :\",lst_output)"
      ],
      "metadata": {
        "colab": {
          "base_uri": "https://localhost:8080/"
        },
        "id": "8kUwwMmUeu1G",
        "outputId": "2c3ce285-7e9d-4068-9449-01197c4c8158"
      },
      "execution_count": null,
      "outputs": [
        {
          "output_type": "stream",
          "name": "stdout",
          "text": [
            "[0.4466651]\n",
            "101\n",
            "1 day input [0.46514191 0.47475944 0.45153366 0.45491752 0.43837206 0.46510792\n",
            " 0.46888017 0.44472225 0.43967317 0.40586859 0.40297508 0.42372486\n",
            " 0.43208013 0.40044568 0.40686869 0.38229325 0.37845789 0.38694424\n",
            " 0.3631213  0.36586432 0.35002282 0.36875783 0.40290711 0.43112857\n",
            " 0.44420763 0.44155201 0.4404451  0.4327501  0.42616687 0.49559176\n",
            " 0.47122508 0.44138209 0.43001194 0.4116896  0.42681743 0.4298663\n",
            " 0.45016944 0.41392285 0.42268592 0.41341308 0.39648895 0.39678995\n",
            " 0.3713649  0.36461661 0.35898494 0.36821408 0.3156308  0.32400548\n",
            " 0.36787909 0.36522347 0.35279981 0.34575052 0.36137354 0.35361543\n",
            " 0.3607327  0.36558759 0.35226092 0.3306324  0.3382837  0.36094146\n",
            " 0.36140753 0.33857014 0.32916622 0.31195565 0.2840449  0.3018769\n",
            " 0.30629485 0.33569605 0.33275398 0.34028877 0.32057793 0.32009244\n",
            " 0.30372661 0.313349   0.33013234 0.32009729 0.29924555 0.28517609\n",
            " 0.30242065 0.32103429 0.33626407 0.35266873 0.36032489 0.39567818\n",
            " 0.39816874 0.40535882 0.40376642 0.44318811 0.44694094 0.44423191\n",
            " 0.43627475 0.43966831 0.46921516 0.44290652 0.42081679 0.42639991\n",
            " 0.41097593 0.38691511 0.39226519 0.44666511]\n",
            "1 day output [[0.45434734]]\n",
            "2 day input [0.47475944 0.45153366 0.45491752 0.43837206 0.46510792 0.46888017\n",
            " 0.44472225 0.43967317 0.40586859 0.40297508 0.42372486 0.43208013\n",
            " 0.40044568 0.40686869 0.38229325 0.37845789 0.38694424 0.3631213\n",
            " 0.36586432 0.35002282 0.36875783 0.40290711 0.43112857 0.44420763\n",
            " 0.44155201 0.4404451  0.4327501  0.42616687 0.49559176 0.47122508\n",
            " 0.44138209 0.43001194 0.4116896  0.42681743 0.4298663  0.45016944\n",
            " 0.41392285 0.42268592 0.41341308 0.39648895 0.39678995 0.3713649\n",
            " 0.36461661 0.35898494 0.36821408 0.3156308  0.32400548 0.36787909\n",
            " 0.36522347 0.35279981 0.34575052 0.36137354 0.35361543 0.3607327\n",
            " 0.36558759 0.35226092 0.3306324  0.3382837  0.36094146 0.36140753\n",
            " 0.33857014 0.32916622 0.31195565 0.2840449  0.3018769  0.30629485\n",
            " 0.33569605 0.33275398 0.34028877 0.32057793 0.32009244 0.30372661\n",
            " 0.313349   0.33013234 0.32009729 0.29924555 0.28517609 0.30242065\n",
            " 0.32103429 0.33626407 0.35266873 0.36032489 0.39567818 0.39816874\n",
            " 0.40535882 0.40376642 0.44318811 0.44694094 0.44423191 0.43627475\n",
            " 0.43966831 0.46921516 0.44290652 0.42081679 0.42639991 0.41097593\n",
            " 0.38691511 0.39226519 0.44666511 0.45434734]\n",
            "2 day output [[0.4716582]]\n",
            "3 day input [0.45153366 0.45491752 0.43837206 0.46510792 0.46888017 0.44472225\n",
            " 0.43967317 0.40586859 0.40297508 0.42372486 0.43208013 0.40044568\n",
            " 0.40686869 0.38229325 0.37845789 0.38694424 0.3631213  0.36586432\n",
            " 0.35002282 0.36875783 0.40290711 0.43112857 0.44420763 0.44155201\n",
            " 0.4404451  0.4327501  0.42616687 0.49559176 0.47122508 0.44138209\n",
            " 0.43001194 0.4116896  0.42681743 0.4298663  0.45016944 0.41392285\n",
            " 0.42268592 0.41341308 0.39648895 0.39678995 0.3713649  0.36461661\n",
            " 0.35898494 0.36821408 0.3156308  0.32400548 0.36787909 0.36522347\n",
            " 0.35279981 0.34575052 0.36137354 0.35361543 0.3607327  0.36558759\n",
            " 0.35226092 0.3306324  0.3382837  0.36094146 0.36140753 0.33857014\n",
            " 0.32916622 0.31195565 0.2840449  0.3018769  0.30629485 0.33569605\n",
            " 0.33275398 0.34028877 0.32057793 0.32009244 0.30372661 0.313349\n",
            " 0.33013234 0.32009729 0.29924555 0.28517609 0.30242065 0.32103429\n",
            " 0.33626407 0.35266873 0.36032489 0.39567818 0.39816874 0.40535882\n",
            " 0.40376642 0.44318811 0.44694094 0.44423191 0.43627475 0.43966831\n",
            " 0.46921516 0.44290652 0.42081679 0.42639991 0.41097593 0.38691511\n",
            " 0.39226519 0.44666511 0.45434734 0.4716582 ]\n",
            "3 day output [[0.4941001]]\n",
            "4 day input [0.45491752 0.43837206 0.46510792 0.46888017 0.44472225 0.43967317\n",
            " 0.40586859 0.40297508 0.42372486 0.43208013 0.40044568 0.40686869\n",
            " 0.38229325 0.37845789 0.38694424 0.3631213  0.36586432 0.35002282\n",
            " 0.36875783 0.40290711 0.43112857 0.44420763 0.44155201 0.4404451\n",
            " 0.4327501  0.42616687 0.49559176 0.47122508 0.44138209 0.43001194\n",
            " 0.4116896  0.42681743 0.4298663  0.45016944 0.41392285 0.42268592\n",
            " 0.41341308 0.39648895 0.39678995 0.3713649  0.36461661 0.35898494\n",
            " 0.36821408 0.3156308  0.32400548 0.36787909 0.36522347 0.35279981\n",
            " 0.34575052 0.36137354 0.35361543 0.3607327  0.36558759 0.35226092\n",
            " 0.3306324  0.3382837  0.36094146 0.36140753 0.33857014 0.32916622\n",
            " 0.31195565 0.2840449  0.3018769  0.30629485 0.33569605 0.33275398\n",
            " 0.34028877 0.32057793 0.32009244 0.30372661 0.313349   0.33013234\n",
            " 0.32009729 0.29924555 0.28517609 0.30242065 0.32103429 0.33626407\n",
            " 0.35266873 0.36032489 0.39567818 0.39816874 0.40535882 0.40376642\n",
            " 0.44318811 0.44694094 0.44423191 0.43627475 0.43966831 0.46921516\n",
            " 0.44290652 0.42081679 0.42639991 0.41097593 0.38691511 0.39226519\n",
            " 0.44666511 0.45434734 0.4716582  0.49410009]\n",
            "4 day output [[0.5196092]]\n",
            "5 day input [0.43837206 0.46510792 0.46888017 0.44472225 0.43967317 0.40586859\n",
            " 0.40297508 0.42372486 0.43208013 0.40044568 0.40686869 0.38229325\n",
            " 0.37845789 0.38694424 0.3631213  0.36586432 0.35002282 0.36875783\n",
            " 0.40290711 0.43112857 0.44420763 0.44155201 0.4404451  0.4327501\n",
            " 0.42616687 0.49559176 0.47122508 0.44138209 0.43001194 0.4116896\n",
            " 0.42681743 0.4298663  0.45016944 0.41392285 0.42268592 0.41341308\n",
            " 0.39648895 0.39678995 0.3713649  0.36461661 0.35898494 0.36821408\n",
            " 0.3156308  0.32400548 0.36787909 0.36522347 0.35279981 0.34575052\n",
            " 0.36137354 0.35361543 0.3607327  0.36558759 0.35226092 0.3306324\n",
            " 0.3382837  0.36094146 0.36140753 0.33857014 0.32916622 0.31195565\n",
            " 0.2840449  0.3018769  0.30629485 0.33569605 0.33275398 0.34028877\n",
            " 0.32057793 0.32009244 0.30372661 0.313349   0.33013234 0.32009729\n",
            " 0.29924555 0.28517609 0.30242065 0.32103429 0.33626407 0.35266873\n",
            " 0.36032489 0.39567818 0.39816874 0.40535882 0.40376642 0.44318811\n",
            " 0.44694094 0.44423191 0.43627475 0.43966831 0.46921516 0.44290652\n",
            " 0.42081679 0.42639991 0.41097593 0.38691511 0.39226519 0.44666511\n",
            " 0.45434734 0.4716582  0.49410009 0.51960921]\n",
            "5 day output [[0.54747146]]\n",
            "6 day input [0.46510792 0.46888017 0.44472225 0.43967317 0.40586859 0.40297508\n",
            " 0.42372486 0.43208013 0.40044568 0.40686869 0.38229325 0.37845789\n",
            " 0.38694424 0.3631213  0.36586432 0.35002282 0.36875783 0.40290711\n",
            " 0.43112857 0.44420763 0.44155201 0.4404451  0.4327501  0.42616687\n",
            " 0.49559176 0.47122508 0.44138209 0.43001194 0.4116896  0.42681743\n",
            " 0.4298663  0.45016944 0.41392285 0.42268592 0.41341308 0.39648895\n",
            " 0.39678995 0.3713649  0.36461661 0.35898494 0.36821408 0.3156308\n",
            " 0.32400548 0.36787909 0.36522347 0.35279981 0.34575052 0.36137354\n",
            " 0.35361543 0.3607327  0.36558759 0.35226092 0.3306324  0.3382837\n",
            " 0.36094146 0.36140753 0.33857014 0.32916622 0.31195565 0.2840449\n",
            " 0.3018769  0.30629485 0.33569605 0.33275398 0.34028877 0.32057793\n",
            " 0.32009244 0.30372661 0.313349   0.33013234 0.32009729 0.29924555\n",
            " 0.28517609 0.30242065 0.32103429 0.33626407 0.35266873 0.36032489\n",
            " 0.39567818 0.39816874 0.40535882 0.40376642 0.44318811 0.44694094\n",
            " 0.44423191 0.43627475 0.43966831 0.46921516 0.44290652 0.42081679\n",
            " 0.42639991 0.41097593 0.38691511 0.39226519 0.44666511 0.45434734\n",
            " 0.4716582  0.49410009 0.51960921 0.54747146]\n",
            "6 day output [[0.5775093]]\n",
            "7 day input [0.46888017 0.44472225 0.43967317 0.40586859 0.40297508 0.42372486\n",
            " 0.43208013 0.40044568 0.40686869 0.38229325 0.37845789 0.38694424\n",
            " 0.3631213  0.36586432 0.35002282 0.36875783 0.40290711 0.43112857\n",
            " 0.44420763 0.44155201 0.4404451  0.4327501  0.42616687 0.49559176\n",
            " 0.47122508 0.44138209 0.43001194 0.4116896  0.42681743 0.4298663\n",
            " 0.45016944 0.41392285 0.42268592 0.41341308 0.39648895 0.39678995\n",
            " 0.3713649  0.36461661 0.35898494 0.36821408 0.3156308  0.32400548\n",
            " 0.36787909 0.36522347 0.35279981 0.34575052 0.36137354 0.35361543\n",
            " 0.3607327  0.36558759 0.35226092 0.3306324  0.3382837  0.36094146\n",
            " 0.36140753 0.33857014 0.32916622 0.31195565 0.2840449  0.3018769\n",
            " 0.30629485 0.33569605 0.33275398 0.34028877 0.32057793 0.32009244\n",
            " 0.30372661 0.313349   0.33013234 0.32009729 0.29924555 0.28517609\n",
            " 0.30242065 0.32103429 0.33626407 0.35266873 0.36032489 0.39567818\n",
            " 0.39816874 0.40535882 0.40376642 0.44318811 0.44694094 0.44423191\n",
            " 0.43627475 0.43966831 0.46921516 0.44290652 0.42081679 0.42639991\n",
            " 0.41097593 0.38691511 0.39226519 0.44666511 0.45434734 0.4716582\n",
            " 0.49410009 0.51960921 0.54747146 0.57750928]\n",
            "7 day output [[0.6096106]]\n",
            "8 day input [0.44472225 0.43967317 0.40586859 0.40297508 0.42372486 0.43208013\n",
            " 0.40044568 0.40686869 0.38229325 0.37845789 0.38694424 0.3631213\n",
            " 0.36586432 0.35002282 0.36875783 0.40290711 0.43112857 0.44420763\n",
            " 0.44155201 0.4404451  0.4327501  0.42616687 0.49559176 0.47122508\n",
            " 0.44138209 0.43001194 0.4116896  0.42681743 0.4298663  0.45016944\n",
            " 0.41392285 0.42268592 0.41341308 0.39648895 0.39678995 0.3713649\n",
            " 0.36461661 0.35898494 0.36821408 0.3156308  0.32400548 0.36787909\n",
            " 0.36522347 0.35279981 0.34575052 0.36137354 0.35361543 0.3607327\n",
            " 0.36558759 0.35226092 0.3306324  0.3382837  0.36094146 0.36140753\n",
            " 0.33857014 0.32916622 0.31195565 0.2840449  0.3018769  0.30629485\n",
            " 0.33569605 0.33275398 0.34028877 0.32057793 0.32009244 0.30372661\n",
            " 0.313349   0.33013234 0.32009729 0.29924555 0.28517609 0.30242065\n",
            " 0.32103429 0.33626407 0.35266873 0.36032489 0.39567818 0.39816874\n",
            " 0.40535882 0.40376642 0.44318811 0.44694094 0.44423191 0.43627475\n",
            " 0.43966831 0.46921516 0.44290652 0.42081679 0.42639991 0.41097593\n",
            " 0.38691511 0.39226519 0.44666511 0.45434734 0.4716582  0.49410009\n",
            " 0.51960921 0.54747146 0.57750928 0.60961062]\n",
            "8 day output [[0.64349586]]\n",
            "9 day input [0.43967317 0.40586859 0.40297508 0.42372486 0.43208013 0.40044568\n",
            " 0.40686869 0.38229325 0.37845789 0.38694424 0.3631213  0.36586432\n",
            " 0.35002282 0.36875783 0.40290711 0.43112857 0.44420763 0.44155201\n",
            " 0.4404451  0.4327501  0.42616687 0.49559176 0.47122508 0.44138209\n",
            " 0.43001194 0.4116896  0.42681743 0.4298663  0.45016944 0.41392285\n",
            " 0.42268592 0.41341308 0.39648895 0.39678995 0.3713649  0.36461661\n",
            " 0.35898494 0.36821408 0.3156308  0.32400548 0.36787909 0.36522347\n",
            " 0.35279981 0.34575052 0.36137354 0.35361543 0.3607327  0.36558759\n",
            " 0.35226092 0.3306324  0.3382837  0.36094146 0.36140753 0.33857014\n",
            " 0.32916622 0.31195565 0.2840449  0.3018769  0.30629485 0.33569605\n",
            " 0.33275398 0.34028877 0.32057793 0.32009244 0.30372661 0.313349\n",
            " 0.33013234 0.32009729 0.29924555 0.28517609 0.30242065 0.32103429\n",
            " 0.33626407 0.35266873 0.36032489 0.39567818 0.39816874 0.40535882\n",
            " 0.40376642 0.44318811 0.44694094 0.44423191 0.43627475 0.43966831\n",
            " 0.46921516 0.44290652 0.42081679 0.42639991 0.41097593 0.38691511\n",
            " 0.39226519 0.44666511 0.45434734 0.4716582  0.49410009 0.51960921\n",
            " 0.54747146 0.57750928 0.60961062 0.64349586]\n",
            "9 day output [[0.678633]]\n",
            "10 day input [0.40586859 0.40297508 0.42372486 0.43208013 0.40044568 0.40686869\n",
            " 0.38229325 0.37845789 0.38694424 0.3631213  0.36586432 0.35002282\n",
            " 0.36875783 0.40290711 0.43112857 0.44420763 0.44155201 0.4404451\n",
            " 0.4327501  0.42616687 0.49559176 0.47122508 0.44138209 0.43001194\n",
            " 0.4116896  0.42681743 0.4298663  0.45016944 0.41392285 0.42268592\n",
            " 0.41341308 0.39648895 0.39678995 0.3713649  0.36461661 0.35898494\n",
            " 0.36821408 0.3156308  0.32400548 0.36787909 0.36522347 0.35279981\n",
            " 0.34575052 0.36137354 0.35361543 0.3607327  0.36558759 0.35226092\n",
            " 0.3306324  0.3382837  0.36094146 0.36140753 0.33857014 0.32916622\n",
            " 0.31195565 0.2840449  0.3018769  0.30629485 0.33569605 0.33275398\n",
            " 0.34028877 0.32057793 0.32009244 0.30372661 0.313349   0.33013234\n",
            " 0.32009729 0.29924555 0.28517609 0.30242065 0.32103429 0.33626407\n",
            " 0.35266873 0.36032489 0.39567818 0.39816874 0.40535882 0.40376642\n",
            " 0.44318811 0.44694094 0.44423191 0.43627475 0.43966831 0.46921516\n",
            " 0.44290652 0.42081679 0.42639991 0.41097593 0.38691511 0.39226519\n",
            " 0.44666511 0.45434734 0.4716582  0.49410009 0.51960921 0.54747146\n",
            " 0.57750928 0.60961062 0.64349586 0.67863297]\n",
            "10 day output [[0.7142603]]\n",
            "11 day input [0.40297508 0.42372486 0.43208013 0.40044568 0.40686869 0.38229325\n",
            " 0.37845789 0.38694424 0.3631213  0.36586432 0.35002282 0.36875783\n",
            " 0.40290711 0.43112857 0.44420763 0.44155201 0.4404451  0.4327501\n",
            " 0.42616687 0.49559176 0.47122508 0.44138209 0.43001194 0.4116896\n",
            " 0.42681743 0.4298663  0.45016944 0.41392285 0.42268592 0.41341308\n",
            " 0.39648895 0.39678995 0.3713649  0.36461661 0.35898494 0.36821408\n",
            " 0.3156308  0.32400548 0.36787909 0.36522347 0.35279981 0.34575052\n",
            " 0.36137354 0.35361543 0.3607327  0.36558759 0.35226092 0.3306324\n",
            " 0.3382837  0.36094146 0.36140753 0.33857014 0.32916622 0.31195565\n",
            " 0.2840449  0.3018769  0.30629485 0.33569605 0.33275398 0.34028877\n",
            " 0.32057793 0.32009244 0.30372661 0.313349   0.33013234 0.32009729\n",
            " 0.29924555 0.28517609 0.30242065 0.32103429 0.33626407 0.35266873\n",
            " 0.36032489 0.39567818 0.39816874 0.40535882 0.40376642 0.44318811\n",
            " 0.44694094 0.44423191 0.43627475 0.43966831 0.46921516 0.44290652\n",
            " 0.42081679 0.42639991 0.41097593 0.38691511 0.39226519 0.44666511\n",
            " 0.45434734 0.4716582  0.49410009 0.51960921 0.54747146 0.57750928\n",
            " 0.60961062 0.64349586 0.67863297 0.71426028]\n",
            "11 day output [[0.74946815]]\n",
            "12 day input [0.42372486 0.43208013 0.40044568 0.40686869 0.38229325 0.37845789\n",
            " 0.38694424 0.3631213  0.36586432 0.35002282 0.36875783 0.40290711\n",
            " 0.43112857 0.44420763 0.44155201 0.4404451  0.4327501  0.42616687\n",
            " 0.49559176 0.47122508 0.44138209 0.43001194 0.4116896  0.42681743\n",
            " 0.4298663  0.45016944 0.41392285 0.42268592 0.41341308 0.39648895\n",
            " 0.39678995 0.3713649  0.36461661 0.35898494 0.36821408 0.3156308\n",
            " 0.32400548 0.36787909 0.36522347 0.35279981 0.34575052 0.36137354\n",
            " 0.35361543 0.3607327  0.36558759 0.35226092 0.3306324  0.3382837\n",
            " 0.36094146 0.36140753 0.33857014 0.32916622 0.31195565 0.2840449\n",
            " 0.3018769  0.30629485 0.33569605 0.33275398 0.34028877 0.32057793\n",
            " 0.32009244 0.30372661 0.313349   0.33013234 0.32009729 0.29924555\n",
            " 0.28517609 0.30242065 0.32103429 0.33626407 0.35266873 0.36032489\n",
            " 0.39567818 0.39816874 0.40535882 0.40376642 0.44318811 0.44694094\n",
            " 0.44423191 0.43627475 0.43966831 0.46921516 0.44290652 0.42081679\n",
            " 0.42639991 0.41097593 0.38691511 0.39226519 0.44666511 0.45434734\n",
            " 0.4716582  0.49410009 0.51960921 0.54747146 0.57750928 0.60961062\n",
            " 0.64349586 0.67863297 0.71426028 0.74946815]\n",
            "12 day output [[0.783236]]\n",
            "13 day input [0.43208013 0.40044568 0.40686869 0.38229325 0.37845789 0.38694424\n",
            " 0.3631213  0.36586432 0.35002282 0.36875783 0.40290711 0.43112857\n",
            " 0.44420763 0.44155201 0.4404451  0.4327501  0.42616687 0.49559176\n",
            " 0.47122508 0.44138209 0.43001194 0.4116896  0.42681743 0.4298663\n",
            " 0.45016944 0.41392285 0.42268592 0.41341308 0.39648895 0.39678995\n",
            " 0.3713649  0.36461661 0.35898494 0.36821408 0.3156308  0.32400548\n",
            " 0.36787909 0.36522347 0.35279981 0.34575052 0.36137354 0.35361543\n",
            " 0.3607327  0.36558759 0.35226092 0.3306324  0.3382837  0.36094146\n",
            " 0.36140753 0.33857014 0.32916622 0.31195565 0.2840449  0.3018769\n",
            " 0.30629485 0.33569605 0.33275398 0.34028877 0.32057793 0.32009244\n",
            " 0.30372661 0.313349   0.33013234 0.32009729 0.29924555 0.28517609\n",
            " 0.30242065 0.32103429 0.33626407 0.35266873 0.36032489 0.39567818\n",
            " 0.39816874 0.40535882 0.40376642 0.44318811 0.44694094 0.44423191\n",
            " 0.43627475 0.43966831 0.46921516 0.44290652 0.42081679 0.42639991\n",
            " 0.41097593 0.38691511 0.39226519 0.44666511 0.45434734 0.4716582\n",
            " 0.49410009 0.51960921 0.54747146 0.57750928 0.60961062 0.64349586\n",
            " 0.67863297 0.71426028 0.74946815 0.78323603]\n",
            "13 day output [[0.814261]]\n",
            "14 day input [0.40044568 0.40686869 0.38229325 0.37845789 0.38694424 0.3631213\n",
            " 0.36586432 0.35002282 0.36875783 0.40290711 0.43112857 0.44420763\n",
            " 0.44155201 0.4404451  0.4327501  0.42616687 0.49559176 0.47122508\n",
            " 0.44138209 0.43001194 0.4116896  0.42681743 0.4298663  0.45016944\n",
            " 0.41392285 0.42268592 0.41341308 0.39648895 0.39678995 0.3713649\n",
            " 0.36461661 0.35898494 0.36821408 0.3156308  0.32400548 0.36787909\n",
            " 0.36522347 0.35279981 0.34575052 0.36137354 0.35361543 0.3607327\n",
            " 0.36558759 0.35226092 0.3306324  0.3382837  0.36094146 0.36140753\n",
            " 0.33857014 0.32916622 0.31195565 0.2840449  0.3018769  0.30629485\n",
            " 0.33569605 0.33275398 0.34028877 0.32057793 0.32009244 0.30372661\n",
            " 0.313349   0.33013234 0.32009729 0.29924555 0.28517609 0.30242065\n",
            " 0.32103429 0.33626407 0.35266873 0.36032489 0.39567818 0.39816874\n",
            " 0.40535882 0.40376642 0.44318811 0.44694094 0.44423191 0.43627475\n",
            " 0.43966831 0.46921516 0.44290652 0.42081679 0.42639991 0.41097593\n",
            " 0.38691511 0.39226519 0.44666511 0.45434734 0.4716582  0.49410009\n",
            " 0.51960921 0.54747146 0.57750928 0.60961062 0.64349586 0.67863297\n",
            " 0.71426028 0.74946815 0.78323603 0.81426102]\n",
            "14 day output [[0.84047985]]\n",
            "15 day input [0.40686869 0.38229325 0.37845789 0.38694424 0.3631213  0.36586432\n",
            " 0.35002282 0.36875783 0.40290711 0.43112857 0.44420763 0.44155201\n",
            " 0.4404451  0.4327501  0.42616687 0.49559176 0.47122508 0.44138209\n",
            " 0.43001194 0.4116896  0.42681743 0.4298663  0.45016944 0.41392285\n",
            " 0.42268592 0.41341308 0.39648895 0.39678995 0.3713649  0.36461661\n",
            " 0.35898494 0.36821408 0.3156308  0.32400548 0.36787909 0.36522347\n",
            " 0.35279981 0.34575052 0.36137354 0.35361543 0.3607327  0.36558759\n",
            " 0.35226092 0.3306324  0.3382837  0.36094146 0.36140753 0.33857014\n",
            " 0.32916622 0.31195565 0.2840449  0.3018769  0.30629485 0.33569605\n",
            " 0.33275398 0.34028877 0.32057793 0.32009244 0.30372661 0.313349\n",
            " 0.33013234 0.32009729 0.29924555 0.28517609 0.30242065 0.32103429\n",
            " 0.33626407 0.35266873 0.36032489 0.39567818 0.39816874 0.40535882\n",
            " 0.40376642 0.44318811 0.44694094 0.44423191 0.43627475 0.43966831\n",
            " 0.46921516 0.44290652 0.42081679 0.42639991 0.41097593 0.38691511\n",
            " 0.39226519 0.44666511 0.45434734 0.4716582  0.49410009 0.51960921\n",
            " 0.54747146 0.57750928 0.60961062 0.64349586 0.67863297 0.71426028\n",
            " 0.74946815 0.78323603 0.81426102 0.84047985]\n",
            "15 day output [[0.8583032]]\n",
            "16 day input [0.38229325 0.37845789 0.38694424 0.3631213  0.36586432 0.35002282\n",
            " 0.36875783 0.40290711 0.43112857 0.44420763 0.44155201 0.4404451\n",
            " 0.4327501  0.42616687 0.49559176 0.47122508 0.44138209 0.43001194\n",
            " 0.4116896  0.42681743 0.4298663  0.45016944 0.41392285 0.42268592\n",
            " 0.41341308 0.39648895 0.39678995 0.3713649  0.36461661 0.35898494\n",
            " 0.36821408 0.3156308  0.32400548 0.36787909 0.36522347 0.35279981\n",
            " 0.34575052 0.36137354 0.35361543 0.3607327  0.36558759 0.35226092\n",
            " 0.3306324  0.3382837  0.36094146 0.36140753 0.33857014 0.32916622\n",
            " 0.31195565 0.2840449  0.3018769  0.30629485 0.33569605 0.33275398\n",
            " 0.34028877 0.32057793 0.32009244 0.30372661 0.313349   0.33013234\n",
            " 0.32009729 0.29924555 0.28517609 0.30242065 0.32103429 0.33626407\n",
            " 0.35266873 0.36032489 0.39567818 0.39816874 0.40535882 0.40376642\n",
            " 0.44318811 0.44694094 0.44423191 0.43627475 0.43966831 0.46921516\n",
            " 0.44290652 0.42081679 0.42639991 0.41097593 0.38691511 0.39226519\n",
            " 0.44666511 0.45434734 0.4716582  0.49410009 0.51960921 0.54747146\n",
            " 0.57750928 0.60961062 0.64349586 0.67863297 0.71426028 0.74946815\n",
            " 0.78323603 0.81426102 0.84047985 0.85830319]\n",
            "16 day output [[0.8616735]]\n",
            "17 day input [0.37845789 0.38694424 0.3631213  0.36586432 0.35002282 0.36875783\n",
            " 0.40290711 0.43112857 0.44420763 0.44155201 0.4404451  0.4327501\n",
            " 0.42616687 0.49559176 0.47122508 0.44138209 0.43001194 0.4116896\n",
            " 0.42681743 0.4298663  0.45016944 0.41392285 0.42268592 0.41341308\n",
            " 0.39648895 0.39678995 0.3713649  0.36461661 0.35898494 0.36821408\n",
            " 0.3156308  0.32400548 0.36787909 0.36522347 0.35279981 0.34575052\n",
            " 0.36137354 0.35361543 0.3607327  0.36558759 0.35226092 0.3306324\n",
            " 0.3382837  0.36094146 0.36140753 0.33857014 0.32916622 0.31195565\n",
            " 0.2840449  0.3018769  0.30629485 0.33569605 0.33275398 0.34028877\n",
            " 0.32057793 0.32009244 0.30372661 0.313349   0.33013234 0.32009729\n",
            " 0.29924555 0.28517609 0.30242065 0.32103429 0.33626407 0.35266873\n",
            " 0.36032489 0.39567818 0.39816874 0.40535882 0.40376642 0.44318811\n",
            " 0.44694094 0.44423191 0.43627475 0.43966831 0.46921516 0.44290652\n",
            " 0.42081679 0.42639991 0.41097593 0.38691511 0.39226519 0.44666511\n",
            " 0.45434734 0.4716582  0.49410009 0.51960921 0.54747146 0.57750928\n",
            " 0.60961062 0.64349586 0.67863297 0.71426028 0.74946815 0.78323603\n",
            " 0.81426102 0.84047985 0.85830319 0.86167347]\n",
            "17 day output [[0.84108746]]\n",
            "18 day input [0.38694424 0.3631213  0.36586432 0.35002282 0.36875783 0.40290711\n",
            " 0.43112857 0.44420763 0.44155201 0.4404451  0.4327501  0.42616687\n",
            " 0.49559176 0.47122508 0.44138209 0.43001194 0.4116896  0.42681743\n",
            " 0.4298663  0.45016944 0.41392285 0.42268592 0.41341308 0.39648895\n",
            " 0.39678995 0.3713649  0.36461661 0.35898494 0.36821408 0.3156308\n",
            " 0.32400548 0.36787909 0.36522347 0.35279981 0.34575052 0.36137354\n",
            " 0.35361543 0.3607327  0.36558759 0.35226092 0.3306324  0.3382837\n",
            " 0.36094146 0.36140753 0.33857014 0.32916622 0.31195565 0.2840449\n",
            " 0.3018769  0.30629485 0.33569605 0.33275398 0.34028877 0.32057793\n",
            " 0.32009244 0.30372661 0.313349   0.33013234 0.32009729 0.29924555\n",
            " 0.28517609 0.30242065 0.32103429 0.33626407 0.35266873 0.36032489\n",
            " 0.39567818 0.39816874 0.40535882 0.40376642 0.44318811 0.44694094\n",
            " 0.44423191 0.43627475 0.43966831 0.46921516 0.44290652 0.42081679\n",
            " 0.42639991 0.41097593 0.38691511 0.39226519 0.44666511 0.45434734\n",
            " 0.4716582  0.49410009 0.51960921 0.54747146 0.57750928 0.60961062\n",
            " 0.64349586 0.67863297 0.71426028 0.74946815 0.78323603 0.81426102\n",
            " 0.84047985 0.85830319 0.86167347 0.84108746]\n",
            "18 day output [[0.7830409]]\n",
            "19 day input [0.3631213  0.36586432 0.35002282 0.36875783 0.40290711 0.43112857\n",
            " 0.44420763 0.44155201 0.4404451  0.4327501  0.42616687 0.49559176\n",
            " 0.47122508 0.44138209 0.43001194 0.4116896  0.42681743 0.4298663\n",
            " 0.45016944 0.41392285 0.42268592 0.41341308 0.39648895 0.39678995\n",
            " 0.3713649  0.36461661 0.35898494 0.36821408 0.3156308  0.32400548\n",
            " 0.36787909 0.36522347 0.35279981 0.34575052 0.36137354 0.35361543\n",
            " 0.3607327  0.36558759 0.35226092 0.3306324  0.3382837  0.36094146\n",
            " 0.36140753 0.33857014 0.32916622 0.31195565 0.2840449  0.3018769\n",
            " 0.30629485 0.33569605 0.33275398 0.34028877 0.32057793 0.32009244\n",
            " 0.30372661 0.313349   0.33013234 0.32009729 0.29924555 0.28517609\n",
            " 0.30242065 0.32103429 0.33626407 0.35266873 0.36032489 0.39567818\n",
            " 0.39816874 0.40535882 0.40376642 0.44318811 0.44694094 0.44423191\n",
            " 0.43627475 0.43966831 0.46921516 0.44290652 0.42081679 0.42639991\n",
            " 0.41097593 0.38691511 0.39226519 0.44666511 0.45434734 0.4716582\n",
            " 0.49410009 0.51960921 0.54747146 0.57750928 0.60961062 0.64349586\n",
            " 0.67863297 0.71426028 0.74946815 0.78323603 0.81426102 0.84047985\n",
            " 0.85830319 0.86167347 0.84108746 0.78304088]\n",
            "19 day output [[0.6725252]]\n",
            "20 day input [0.36586432 0.35002282 0.36875783 0.40290711 0.43112857 0.44420763\n",
            " 0.44155201 0.4404451  0.4327501  0.42616687 0.49559176 0.47122508\n",
            " 0.44138209 0.43001194 0.4116896  0.42681743 0.4298663  0.45016944\n",
            " 0.41392285 0.42268592 0.41341308 0.39648895 0.39678995 0.3713649\n",
            " 0.36461661 0.35898494 0.36821408 0.3156308  0.32400548 0.36787909\n",
            " 0.36522347 0.35279981 0.34575052 0.36137354 0.35361543 0.3607327\n",
            " 0.36558759 0.35226092 0.3306324  0.3382837  0.36094146 0.36140753\n",
            " 0.33857014 0.32916622 0.31195565 0.2840449  0.3018769  0.30629485\n",
            " 0.33569605 0.33275398 0.34028877 0.32057793 0.32009244 0.30372661\n",
            " 0.313349   0.33013234 0.32009729 0.29924555 0.28517609 0.30242065\n",
            " 0.32103429 0.33626407 0.35266873 0.36032489 0.39567818 0.39816874\n",
            " 0.40535882 0.40376642 0.44318811 0.44694094 0.44423191 0.43627475\n",
            " 0.43966831 0.46921516 0.44290652 0.42081679 0.42639991 0.41097593\n",
            " 0.38691511 0.39226519 0.44666511 0.45434734 0.4716582  0.49410009\n",
            " 0.51960921 0.54747146 0.57750928 0.60961062 0.64349586 0.67863297\n",
            " 0.71426028 0.74946815 0.78323603 0.81426102 0.84047985 0.85830319\n",
            " 0.86167347 0.84108746 0.78304088 0.67252523]\n",
            "20 day output [[0.5146492]]\n",
            "21 day input [0.35002282 0.36875783 0.40290711 0.43112857 0.44420763 0.44155201\n",
            " 0.4404451  0.4327501  0.42616687 0.49559176 0.47122508 0.44138209\n",
            " 0.43001194 0.4116896  0.42681743 0.4298663  0.45016944 0.41392285\n",
            " 0.42268592 0.41341308 0.39648895 0.39678995 0.3713649  0.36461661\n",
            " 0.35898494 0.36821408 0.3156308  0.32400548 0.36787909 0.36522347\n",
            " 0.35279981 0.34575052 0.36137354 0.35361543 0.3607327  0.36558759\n",
            " 0.35226092 0.3306324  0.3382837  0.36094146 0.36140753 0.33857014\n",
            " 0.32916622 0.31195565 0.2840449  0.3018769  0.30629485 0.33569605\n",
            " 0.33275398 0.34028877 0.32057793 0.32009244 0.30372661 0.313349\n",
            " 0.33013234 0.32009729 0.29924555 0.28517609 0.30242065 0.32103429\n",
            " 0.33626407 0.35266873 0.36032489 0.39567818 0.39816874 0.40535882\n",
            " 0.40376642 0.44318811 0.44694094 0.44423191 0.43627475 0.43966831\n",
            " 0.46921516 0.44290652 0.42081679 0.42639991 0.41097593 0.38691511\n",
            " 0.39226519 0.44666511 0.45434734 0.4716582  0.49410009 0.51960921\n",
            " 0.54747146 0.57750928 0.60961062 0.64349586 0.67863297 0.71426028\n",
            " 0.74946815 0.78323603 0.81426102 0.84047985 0.85830319 0.86167347\n",
            " 0.84108746 0.78304088 0.67252523 0.51464921]\n",
            "21 day output [[0.38181582]]\n",
            "22 day input [0.36875783 0.40290711 0.43112857 0.44420763 0.44155201 0.4404451\n",
            " 0.4327501  0.42616687 0.49559176 0.47122508 0.44138209 0.43001194\n",
            " 0.4116896  0.42681743 0.4298663  0.45016944 0.41392285 0.42268592\n",
            " 0.41341308 0.39648895 0.39678995 0.3713649  0.36461661 0.35898494\n",
            " 0.36821408 0.3156308  0.32400548 0.36787909 0.36522347 0.35279981\n",
            " 0.34575052 0.36137354 0.35361543 0.3607327  0.36558759 0.35226092\n",
            " 0.3306324  0.3382837  0.36094146 0.36140753 0.33857014 0.32916622\n",
            " 0.31195565 0.2840449  0.3018769  0.30629485 0.33569605 0.33275398\n",
            " 0.34028877 0.32057793 0.32009244 0.30372661 0.313349   0.33013234\n",
            " 0.32009729 0.29924555 0.28517609 0.30242065 0.32103429 0.33626407\n",
            " 0.35266873 0.36032489 0.39567818 0.39816874 0.40535882 0.40376642\n",
            " 0.44318811 0.44694094 0.44423191 0.43627475 0.43966831 0.46921516\n",
            " 0.44290652 0.42081679 0.42639991 0.41097593 0.38691511 0.39226519\n",
            " 0.44666511 0.45434734 0.4716582  0.49410009 0.51960921 0.54747146\n",
            " 0.57750928 0.60961062 0.64349586 0.67863297 0.71426028 0.74946815\n",
            " 0.78323603 0.81426102 0.84047985 0.85830319 0.86167347 0.84108746\n",
            " 0.78304088 0.67252523 0.51464921 0.38181582]\n",
            "22 day output [[0.32451785]]\n",
            "23 day input [0.40290711 0.43112857 0.44420763 0.44155201 0.4404451  0.4327501\n",
            " 0.42616687 0.49559176 0.47122508 0.44138209 0.43001194 0.4116896\n",
            " 0.42681743 0.4298663  0.45016944 0.41392285 0.42268592 0.41341308\n",
            " 0.39648895 0.39678995 0.3713649  0.36461661 0.35898494 0.36821408\n",
            " 0.3156308  0.32400548 0.36787909 0.36522347 0.35279981 0.34575052\n",
            " 0.36137354 0.35361543 0.3607327  0.36558759 0.35226092 0.3306324\n",
            " 0.3382837  0.36094146 0.36140753 0.33857014 0.32916622 0.31195565\n",
            " 0.2840449  0.3018769  0.30629485 0.33569605 0.33275398 0.34028877\n",
            " 0.32057793 0.32009244 0.30372661 0.313349   0.33013234 0.32009729\n",
            " 0.29924555 0.28517609 0.30242065 0.32103429 0.33626407 0.35266873\n",
            " 0.36032489 0.39567818 0.39816874 0.40535882 0.40376642 0.44318811\n",
            " 0.44694094 0.44423191 0.43627475 0.43966831 0.46921516 0.44290652\n",
            " 0.42081679 0.42639991 0.41097593 0.38691511 0.39226519 0.44666511\n",
            " 0.45434734 0.4716582  0.49410009 0.51960921 0.54747146 0.57750928\n",
            " 0.60961062 0.64349586 0.67863297 0.71426028 0.74946815 0.78323603\n",
            " 0.81426102 0.84047985 0.85830319 0.86167347 0.84108746 0.78304088\n",
            " 0.67252523 0.51464921 0.38181582 0.32451785]\n",
            "23 day output [[0.29791507]]\n",
            "24 day input [0.43112857 0.44420763 0.44155201 0.4404451  0.4327501  0.42616687\n",
            " 0.49559176 0.47122508 0.44138209 0.43001194 0.4116896  0.42681743\n",
            " 0.4298663  0.45016944 0.41392285 0.42268592 0.41341308 0.39648895\n",
            " 0.39678995 0.3713649  0.36461661 0.35898494 0.36821408 0.3156308\n",
            " 0.32400548 0.36787909 0.36522347 0.35279981 0.34575052 0.36137354\n",
            " 0.35361543 0.3607327  0.36558759 0.35226092 0.3306324  0.3382837\n",
            " 0.36094146 0.36140753 0.33857014 0.32916622 0.31195565 0.2840449\n",
            " 0.3018769  0.30629485 0.33569605 0.33275398 0.34028877 0.32057793\n",
            " 0.32009244 0.30372661 0.313349   0.33013234 0.32009729 0.29924555\n",
            " 0.28517609 0.30242065 0.32103429 0.33626407 0.35266873 0.36032489\n",
            " 0.39567818 0.39816874 0.40535882 0.40376642 0.44318811 0.44694094\n",
            " 0.44423191 0.43627475 0.43966831 0.46921516 0.44290652 0.42081679\n",
            " 0.42639991 0.41097593 0.38691511 0.39226519 0.44666511 0.45434734\n",
            " 0.4716582  0.49410009 0.51960921 0.54747146 0.57750928 0.60961062\n",
            " 0.64349586 0.67863297 0.71426028 0.74946815 0.78323603 0.81426102\n",
            " 0.84047985 0.85830319 0.86167347 0.84108746 0.78304088 0.67252523\n",
            " 0.51464921 0.38181582 0.32451785 0.29791507]\n",
            "24 day output [[0.28314072]]\n",
            "25 day input [0.44420763 0.44155201 0.4404451  0.4327501  0.42616687 0.49559176\n",
            " 0.47122508 0.44138209 0.43001194 0.4116896  0.42681743 0.4298663\n",
            " 0.45016944 0.41392285 0.42268592 0.41341308 0.39648895 0.39678995\n",
            " 0.3713649  0.36461661 0.35898494 0.36821408 0.3156308  0.32400548\n",
            " 0.36787909 0.36522347 0.35279981 0.34575052 0.36137354 0.35361543\n",
            " 0.3607327  0.36558759 0.35226092 0.3306324  0.3382837  0.36094146\n",
            " 0.36140753 0.33857014 0.32916622 0.31195565 0.2840449  0.3018769\n",
            " 0.30629485 0.33569605 0.33275398 0.34028877 0.32057793 0.32009244\n",
            " 0.30372661 0.313349   0.33013234 0.32009729 0.29924555 0.28517609\n",
            " 0.30242065 0.32103429 0.33626407 0.35266873 0.36032489 0.39567818\n",
            " 0.39816874 0.40535882 0.40376642 0.44318811 0.44694094 0.44423191\n",
            " 0.43627475 0.43966831 0.46921516 0.44290652 0.42081679 0.42639991\n",
            " 0.41097593 0.38691511 0.39226519 0.44666511 0.45434734 0.4716582\n",
            " 0.49410009 0.51960921 0.54747146 0.57750928 0.60961062 0.64349586\n",
            " 0.67863297 0.71426028 0.74946815 0.78323603 0.81426102 0.84047985\n",
            " 0.85830319 0.86167347 0.84108746 0.78304088 0.67252523 0.51464921\n",
            " 0.38181582 0.32451785 0.29791507 0.28314072]\n",
            "25 day output [[0.27909014]]\n",
            "26 day input [0.44155201 0.4404451  0.4327501  0.42616687 0.49559176 0.47122508\n",
            " 0.44138209 0.43001194 0.4116896  0.42681743 0.4298663  0.45016944\n",
            " 0.41392285 0.42268592 0.41341308 0.39648895 0.39678995 0.3713649\n",
            " 0.36461661 0.35898494 0.36821408 0.3156308  0.32400548 0.36787909\n",
            " 0.36522347 0.35279981 0.34575052 0.36137354 0.35361543 0.3607327\n",
            " 0.36558759 0.35226092 0.3306324  0.3382837  0.36094146 0.36140753\n",
            " 0.33857014 0.32916622 0.31195565 0.2840449  0.3018769  0.30629485\n",
            " 0.33569605 0.33275398 0.34028877 0.32057793 0.32009244 0.30372661\n",
            " 0.313349   0.33013234 0.32009729 0.29924555 0.28517609 0.30242065\n",
            " 0.32103429 0.33626407 0.35266873 0.36032489 0.39567818 0.39816874\n",
            " 0.40535882 0.40376642 0.44318811 0.44694094 0.44423191 0.43627475\n",
            " 0.43966831 0.46921516 0.44290652 0.42081679 0.42639991 0.41097593\n",
            " 0.38691511 0.39226519 0.44666511 0.45434734 0.4716582  0.49410009\n",
            " 0.51960921 0.54747146 0.57750928 0.60961062 0.64349586 0.67863297\n",
            " 0.71426028 0.74946815 0.78323603 0.81426102 0.84047985 0.85830319\n",
            " 0.86167347 0.84108746 0.78304088 0.67252523 0.51464921 0.38181582\n",
            " 0.32451785 0.29791507 0.28314072 0.27909014]\n",
            "26 day output [[0.28457576]]\n",
            "27 day input [0.4404451  0.4327501  0.42616687 0.49559176 0.47122508 0.44138209\n",
            " 0.43001194 0.4116896  0.42681743 0.4298663  0.45016944 0.41392285\n",
            " 0.42268592 0.41341308 0.39648895 0.39678995 0.3713649  0.36461661\n",
            " 0.35898494 0.36821408 0.3156308  0.32400548 0.36787909 0.36522347\n",
            " 0.35279981 0.34575052 0.36137354 0.35361543 0.3607327  0.36558759\n",
            " 0.35226092 0.3306324  0.3382837  0.36094146 0.36140753 0.33857014\n",
            " 0.32916622 0.31195565 0.2840449  0.3018769  0.30629485 0.33569605\n",
            " 0.33275398 0.34028877 0.32057793 0.32009244 0.30372661 0.313349\n",
            " 0.33013234 0.32009729 0.29924555 0.28517609 0.30242065 0.32103429\n",
            " 0.33626407 0.35266873 0.36032489 0.39567818 0.39816874 0.40535882\n",
            " 0.40376642 0.44318811 0.44694094 0.44423191 0.43627475 0.43966831\n",
            " 0.46921516 0.44290652 0.42081679 0.42639991 0.41097593 0.38691511\n",
            " 0.39226519 0.44666511 0.45434734 0.4716582  0.49410009 0.51960921\n",
            " 0.54747146 0.57750928 0.60961062 0.64349586 0.67863297 0.71426028\n",
            " 0.74946815 0.78323603 0.81426102 0.84047985 0.85830319 0.86167347\n",
            " 0.84108746 0.78304088 0.67252523 0.51464921 0.38181582 0.32451785\n",
            " 0.29791507 0.28314072 0.27909014 0.28457576]\n",
            "27 day output [[0.29744604]]\n",
            "28 day input [0.4327501  0.42616687 0.49559176 0.47122508 0.44138209 0.43001194\n",
            " 0.4116896  0.42681743 0.4298663  0.45016944 0.41392285 0.42268592\n",
            " 0.41341308 0.39648895 0.39678995 0.3713649  0.36461661 0.35898494\n",
            " 0.36821408 0.3156308  0.32400548 0.36787909 0.36522347 0.35279981\n",
            " 0.34575052 0.36137354 0.35361543 0.3607327  0.36558759 0.35226092\n",
            " 0.3306324  0.3382837  0.36094146 0.36140753 0.33857014 0.32916622\n",
            " 0.31195565 0.2840449  0.3018769  0.30629485 0.33569605 0.33275398\n",
            " 0.34028877 0.32057793 0.32009244 0.30372661 0.313349   0.33013234\n",
            " 0.32009729 0.29924555 0.28517609 0.30242065 0.32103429 0.33626407\n",
            " 0.35266873 0.36032489 0.39567818 0.39816874 0.40535882 0.40376642\n",
            " 0.44318811 0.44694094 0.44423191 0.43627475 0.43966831 0.46921516\n",
            " 0.44290652 0.42081679 0.42639991 0.41097593 0.38691511 0.39226519\n",
            " 0.44666511 0.45434734 0.4716582  0.49410009 0.51960921 0.54747146\n",
            " 0.57750928 0.60961062 0.64349586 0.67863297 0.71426028 0.74946815\n",
            " 0.78323603 0.81426102 0.84047985 0.85830319 0.86167347 0.84108746\n",
            " 0.78304088 0.67252523 0.51464921 0.38181582 0.32451785 0.29791507\n",
            " 0.28314072 0.27909014 0.28457576 0.29744604]\n",
            "28 day output [[0.31500944]]\n",
            "29 day input [0.42616687 0.49559176 0.47122508 0.44138209 0.43001194 0.4116896\n",
            " 0.42681743 0.4298663  0.45016944 0.41392285 0.42268592 0.41341308\n",
            " 0.39648895 0.39678995 0.3713649  0.36461661 0.35898494 0.36821408\n",
            " 0.3156308  0.32400548 0.36787909 0.36522347 0.35279981 0.34575052\n",
            " 0.36137354 0.35361543 0.3607327  0.36558759 0.35226092 0.3306324\n",
            " 0.3382837  0.36094146 0.36140753 0.33857014 0.32916622 0.31195565\n",
            " 0.2840449  0.3018769  0.30629485 0.33569605 0.33275398 0.34028877\n",
            " 0.32057793 0.32009244 0.30372661 0.313349   0.33013234 0.32009729\n",
            " 0.29924555 0.28517609 0.30242065 0.32103429 0.33626407 0.35266873\n",
            " 0.36032489 0.39567818 0.39816874 0.40535882 0.40376642 0.44318811\n",
            " 0.44694094 0.44423191 0.43627475 0.43966831 0.46921516 0.44290652\n",
            " 0.42081679 0.42639991 0.41097593 0.38691511 0.39226519 0.44666511\n",
            " 0.45434734 0.4716582  0.49410009 0.51960921 0.54747146 0.57750928\n",
            " 0.60961062 0.64349586 0.67863297 0.71426028 0.74946815 0.78323603\n",
            " 0.81426102 0.84047985 0.85830319 0.86167347 0.84108746 0.78304088\n",
            " 0.67252523 0.51464921 0.38181582 0.32451785 0.29791507 0.28314072\n",
            " 0.27909014 0.28457576 0.29744604 0.31500944]\n",
            "29 day output [[0.33492002]]\n",
            "\n",
            "\n",
            " 30 day's output are : [[0.44666510820388794], [0.4543473422527313], [0.47165820002555847], [0.49410009384155273], [0.5196092128753662], [0.5474714636802673], [0.5775092840194702], [0.6096106171607971], [0.6434958577156067], [0.6786329746246338], [0.7142602801322937], [0.7494681477546692], [0.783236026763916], [0.8142610192298889], [0.840479850769043], [0.8583031892776489], [0.8616734743118286], [0.8410874605178833], [0.7830408811569214], [0.6725252270698547], [0.5146492123603821], [0.3818158209323883], [0.3245178461074829], [0.2979150712490082], [0.28314071893692017], [0.27909013628959656], [0.28457576036453247], [0.29744604229927063], [0.3150094449520111], [0.3349200189113617]]\n"
          ]
        }
      ]
    },
    {
      "cell_type": "code",
      "source": [
        "day_new = np.arange(1,101)\n",
        "day_predict = np.arange(101, 131)"
      ],
      "metadata": {
        "id": "Ro0OgFEfe1A0"
      },
      "execution_count": null,
      "outputs": []
    },
    {
      "cell_type": "code",
      "source": [
        ""
      ],
      "metadata": {
        "id": "gd_bcWK_e68K"
      },
      "execution_count": null,
      "outputs": []
    },
    {
      "cell_type": "code",
      "source": [
        "len(data)"
      ],
      "metadata": {
        "colab": {
          "base_uri": "https://localhost:8080/"
        },
        "id": "1ArxEepCfX3t",
        "outputId": "de8bde61-ef93-4a4c-e65b-145dbd3c38b5"
      },
      "execution_count": null,
      "outputs": [
        {
          "output_type": "execute_result",
          "data": {
            "text/plain": [
              "1258"
            ]
          },
          "metadata": {},
          "execution_count": 48
        }
      ]
    },
    {
      "cell_type": "code",
      "source": [
        "#adding new data\n",
        "new_add = data.tolist()\n",
        "new_add.extend(lst_output)\n",
        "plt.plot(new_add[1200:])"
      ],
      "metadata": {
        "colab": {
          "base_uri": "https://localhost:8080/",
          "height": 283
        },
        "id": "hNljWwcZfebt",
        "outputId": "6a3fcaad-8960-4063-8e29-fa82901039a1"
      },
      "execution_count": null,
      "outputs": [
        {
          "output_type": "execute_result",
          "data": {
            "text/plain": [
              "[<matplotlib.lines.Line2D at 0x7f5ebc546a10>]"
            ]
          },
          "metadata": {},
          "execution_count": 49
        },
        {
          "output_type": "display_data",
          "data": {
            "text/plain": [
              "<Figure size 432x288 with 1 Axes>"
            ],
            "image/png": "[encoded data removed]"
          },
          "metadata": {
            "needs_background": "light"
          }
        }
      ]
    },
    {
      "cell_type": "code",
      "source": [
        "#full data(with 30 day parediction)\n",
        "plt.plot(scaler.inverse_transform(new_add))"
      ],
      "metadata": {
        "colab": {
          "base_uri": "https://localhost:8080/",
          "height": 283
        },
        "id": "NzT754lHfkX8",
        "outputId": "999b91d4-5f11-41c0-bd19-798d102f3b8d"
      },
      "execution_count": null,
      "outputs": [
        {
          "output_type": "execute_result",
          "data": {
            "text/plain": [
              "[<matplotlib.lines.Line2D at 0x7f5ebc2282d0>]"
            ]
          },
          "metadata": {},
          "execution_count": 50
        },
        {
          "output_type": "display_data",
          "data": {
            "text/plain": [
              "<Figure size 432x288 with 1 Axes>"
            ],
            "image/png": "[encoded data removed]"
          },
          "metadata": {
            "needs_background": "light"
          }
        }
      ]
    }
  ]
}